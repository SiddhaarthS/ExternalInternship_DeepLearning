{
  "nbformat": 4,
  "nbformat_minor": 0,
  "metadata": {
    "colab": {
      "name": "SIDDHAARTH_BATCH_1_ASSIGNMENT_4B__84 (1).ipynb",
      "version": "0.3.2",
      "views": {},
      "default_view": {},
      "provenance": []
    },
    "kernelspec": {
      "name": "python3",
      "display_name": "Python 3"
    },
    "accelerator": "GPU"
  },
  "cells": [
    {
      "metadata": {
        "id": "gion7VLJ3ZfN",
        "colab_type": "code",
        "colab": {
          "autoexec": {
            "startup": false,
            "wait_interval": 0
          }
        }
      },
      "cell_type": "code",
      "source": [
        "#####----INTERN NAME : Siddhaarth S --------#######\n",
        "#####----VAL. ACCURRACY: 87.25% ------------#######\n",
        "\n",
        "\n",
        "# https://keras.io/\n",
        "!pip install -q keras\n",
        "import keras"
      ],
      "execution_count": 0,
      "outputs": []
    },
    {
      "metadata": {
        "id": "9_WWUwMm3kGk",
        "colab_type": "code",
        "colab": {
          "autoexec": {
            "startup": false,
            "wait_interval": 0
          }
        }
      },
      "cell_type": "code",
      "source": [
        "import keras\n",
        "from keras.datasets import cifar10\n",
        "from keras.models import Model, Sequential\n",
        "from keras.layers import Dense, Dropout, Flatten, Input, AveragePooling2D, merge, Activation\n",
        "from keras.layers import Conv2D, MaxPooling2D, BatchNormalization\n",
        "from keras.layers import Concatenate\n",
        "from keras.optimizers import Adam\n",
        "from keras.callbacks import ModelCheckpoint"
      ],
      "execution_count": 0,
      "outputs": []
    },
    {
      "metadata": {
        "id": "SvXsDZFm3mrT",
        "colab_type": "code",
        "colab": {
          "autoexec": {
            "startup": false,
            "wait_interval": 0
          }
        }
      },
      "cell_type": "code",
      "source": [
        "# this part will prevent tensorflow to allocate all the avaliable GPU Memory\n",
        "# backend\n",
        "import tensorflow as tf\n",
        "from keras import backend as k\n",
        "\n",
        "# Don't pre-allocate memory; allocate as-needed\n",
        "config = tf.ConfigProto()\n",
        "config.gpu_options.allow_growth = True\n",
        "\n",
        "# Create a session with the above options specified.\n",
        "k.tensorflow_backend.set_session(tf.Session(config=config))"
      ],
      "execution_count": 0,
      "outputs": []
    },
    {
      "metadata": {
        "id": "Ub9D8yGa3uK8",
        "colab_type": "code",
        "colab": {
          "autoexec": {
            "startup": false,
            "wait_interval": 0
          }
        }
      },
      "cell_type": "code",
      "source": [
        "# Hyperparameters\n",
        "batch_size = 256\n",
        "num_classes = 10\n",
        "epochs = 50\n",
        "l = 12\n",
        "num_filter = 18\n",
        "compression = 1.0\n",
        "dropout_rate = 0.2"
      ],
      "execution_count": 0,
      "outputs": []
    },
    {
      "metadata": {
        "id": "k4F2OAVS3vtU",
        "colab_type": "code",
        "colab": {
          "autoexec": {
            "startup": false,
            "wait_interval": 0
          }
        }
      },
      "cell_type": "code",
      "source": [
        "# Load CIFAR10 Data\n",
        "(x_train, y_train), (x_test, y_test) = cifar10.load_data()\n",
        "img_height, img_width, channel = x_train.shape[1],x_train.shape[2],x_train.shape[3]\n",
        "\n",
        "# convert to one hot encoing \n",
        "y_train = keras.utils.to_categorical(y_train, num_classes)\n",
        "y_test = keras.utils.to_categorical(y_test, num_classes)"
      ],
      "execution_count": 0,
      "outputs": []
    },
    {
      "metadata": {
        "id": "t90dm8xb4C3E",
        "colab_type": "code",
        "colab": {
          "autoexec": {
            "startup": false,
            "wait_interval": 0
          }
        }
      },
      "cell_type": "code",
      "source": [
        "# Dense Block\n",
        "def add_denseblock(input, num_filter = 32, dropout_rate = 0.2):\n",
        "    global compression\n",
        "    temp = input\n",
        "    for _ in range(l):\n",
        "        BatchNorm = BatchNormalization()(temp)\n",
        "        relu = Activation('relu')(BatchNorm)\n",
        "        Conv2D_3_3 = Conv2D(int(num_filter*compression), (3,3), use_bias=False ,padding='same')(relu)\n",
        "        if dropout_rate>0:\n",
        "          Conv2D_3_3 = Dropout(dropout_rate)(Conv2D_3_3)\n",
        "        concat = Concatenate(axis=-1)([temp,Conv2D_3_3])\n",
        "        \n",
        "        temp = concat\n",
        "        \n",
        "    return temp"
      ],
      "execution_count": 0,
      "outputs": []
    },
    {
      "metadata": {
        "id": "vhjVQsjb4FBV",
        "colab_type": "code",
        "colab": {
          "autoexec": {
            "startup": false,
            "wait_interval": 0
          }
        }
      },
      "cell_type": "code",
      "source": [
        "def add_transition(input, num_filter = 32, dropout_rate = 0.2):\n",
        "    global compression\n",
        "    BatchNorm = BatchNormalization()(input)\n",
        "    relu = Activation('relu')(BatchNorm)\n",
        "    Conv2D_BottleNeck = Conv2D(int(num_filter*compression), (1,1), use_bias=False ,padding='same')(relu)\n",
        "    if dropout_rate>0:\n",
        "      Conv2D_BottleNeck = Dropout(dropout_rate)(Conv2D_BottleNeck)\n",
        "    avg = AveragePooling2D(pool_size=(2,2))(Conv2D_BottleNeck)\n",
        "    \n",
        "    return avg"
      ],
      "execution_count": 0,
      "outputs": []
    },
    {
      "metadata": {
        "id": "R3tNqLuU4G3c",
        "colab_type": "code",
        "colab": {
          "autoexec": {
            "startup": false,
            "wait_interval": 0
          }
        }
      },
      "cell_type": "code",
      "source": [
        "def output_layer(input):\n",
        "    global compression\n",
        "    BatchNorm = BatchNormalization()(input)\n",
        "    relu = Activation('relu')(BatchNorm)\n",
        "    AvgPooling = AveragePooling2D(pool_size=(2,2))(relu)\n",
        "    flat = Flatten()(AvgPooling)\n",
        "    output = Dense(num_classes, activation='softmax')(flat)\n",
        "    \n",
        "    return output"
      ],
      "execution_count": 0,
      "outputs": []
    },
    {
      "metadata": {
        "id": "qGbwx1nl4QWM",
        "colab_type": "code",
        "colab": {
          "autoexec": {
            "startup": false,
            "wait_interval": 0
          }
        }
      },
      "cell_type": "code",
      "source": [
        "num_filter = 24\n",
        "dropout_rate = 0.2\n",
        "l =12\n",
        "input = Input(shape=(img_height, img_width, channel,))\n",
        "First_Conv2D = Conv2D(num_filter, (3,3), use_bias=False ,padding='same')(input)\n",
        "\n",
        "First_Block = add_denseblock(First_Conv2D, num_filter, dropout_rate)\n",
        "First_Transition = add_transition(First_Block, num_filter, dropout_rate)\n",
        "\n",
        "Second_Block = add_denseblock(First_Transition, num_filter, dropout_rate)\n",
        "Second_Transition = add_transition(Second_Block, num_filter, dropout_rate)\n",
        "\n",
        "Third_Block = add_denseblock(Second_Transition, num_filter, dropout_rate)\n",
        "Third_Transition = add_transition(Third_Block, num_filter, dropout_rate)\n",
        "\n",
        "Last_Block = add_denseblock(Third_Transition,  num_filter, dropout_rate)\n",
        "output = output_layer(Last_Block)"
      ],
      "execution_count": 0,
      "outputs": []
    },
    {
      "metadata": {
        "id": "URw1OJ3o4VLN",
        "colab_type": "code",
        "colab": {
          "autoexec": {
            "startup": false,
            "wait_interval": 0
          },
          "base_uri": "https://localhost:8080/",
          "height": 9744
        },
        "outputId": "dc2b871d-fc82-4532-866f-f332a873a9e4",
        "executionInfo": {
          "status": "ok",
          "timestamp": 1526468107546,
          "user_tz": -330,
          "elapsed": 1127,
          "user": {
            "displayName": "Lone Pack",
            "photoUrl": "https://lh3.googleusercontent.com/a/default-user=s128",
            "userId": "104686426490138401568"
          }
        }
      },
      "cell_type": "code",
      "source": [
        "model = Model(inputs=[input], outputs=[output])\n",
        "model.summary()"
      ],
      "execution_count": 24,
      "outputs": [
        {
          "output_type": "stream",
          "text": [
            "__________________________________________________________________________________________________\n",
            "Layer (type)                    Output Shape         Param #     Connected to                     \n",
            "==================================================================================================\n",
            "input_2 (InputLayer)            (None, 32, 32, 3)    0                                            \n",
            "__________________________________________________________________________________________________\n",
            "conv2d_53 (Conv2D)              (None, 32, 32, 24)   648         input_2[0][0]                    \n",
            "__________________________________________________________________________________________________\n",
            "batch_normalization_53 (BatchNo (None, 32, 32, 24)   96          conv2d_53[0][0]                  \n",
            "__________________________________________________________________________________________________\n",
            "activation_53 (Activation)      (None, 32, 32, 24)   0           batch_normalization_53[0][0]     \n",
            "__________________________________________________________________________________________________\n",
            "conv2d_54 (Conv2D)              (None, 32, 32, 24)   5184        activation_53[0][0]              \n",
            "__________________________________________________________________________________________________\n",
            "dropout_52 (Dropout)            (None, 32, 32, 24)   0           conv2d_54[0][0]                  \n",
            "__________________________________________________________________________________________________\n",
            "concatenate_49 (Concatenate)    (None, 32, 32, 48)   0           conv2d_53[0][0]                  \n",
            "                                                                 dropout_52[0][0]                 \n",
            "__________________________________________________________________________________________________\n",
            "batch_normalization_54 (BatchNo (None, 32, 32, 48)   192         concatenate_49[0][0]             \n",
            "__________________________________________________________________________________________________\n",
            "activation_54 (Activation)      (None, 32, 32, 48)   0           batch_normalization_54[0][0]     \n",
            "__________________________________________________________________________________________________\n",
            "conv2d_55 (Conv2D)              (None, 32, 32, 24)   10368       activation_54[0][0]              \n",
            "__________________________________________________________________________________________________\n",
            "dropout_53 (Dropout)            (None, 32, 32, 24)   0           conv2d_55[0][0]                  \n",
            "__________________________________________________________________________________________________\n",
            "concatenate_50 (Concatenate)    (None, 32, 32, 72)   0           concatenate_49[0][0]             \n",
            "                                                                 dropout_53[0][0]                 \n",
            "__________________________________________________________________________________________________\n",
            "batch_normalization_55 (BatchNo (None, 32, 32, 72)   288         concatenate_50[0][0]             \n",
            "__________________________________________________________________________________________________\n",
            "activation_55 (Activation)      (None, 32, 32, 72)   0           batch_normalization_55[0][0]     \n",
            "__________________________________________________________________________________________________\n",
            "conv2d_56 (Conv2D)              (None, 32, 32, 24)   15552       activation_55[0][0]              \n",
            "__________________________________________________________________________________________________\n",
            "dropout_54 (Dropout)            (None, 32, 32, 24)   0           conv2d_56[0][0]                  \n",
            "__________________________________________________________________________________________________\n",
            "concatenate_51 (Concatenate)    (None, 32, 32, 96)   0           concatenate_50[0][0]             \n",
            "                                                                 dropout_54[0][0]                 \n",
            "__________________________________________________________________________________________________\n",
            "batch_normalization_56 (BatchNo (None, 32, 32, 96)   384         concatenate_51[0][0]             \n",
            "__________________________________________________________________________________________________\n",
            "activation_56 (Activation)      (None, 32, 32, 96)   0           batch_normalization_56[0][0]     \n",
            "__________________________________________________________________________________________________\n",
            "conv2d_57 (Conv2D)              (None, 32, 32, 24)   20736       activation_56[0][0]              \n",
            "__________________________________________________________________________________________________\n",
            "dropout_55 (Dropout)            (None, 32, 32, 24)   0           conv2d_57[0][0]                  \n",
            "__________________________________________________________________________________________________\n",
            "concatenate_52 (Concatenate)    (None, 32, 32, 120)  0           concatenate_51[0][0]             \n",
            "                                                                 dropout_55[0][0]                 \n",
            "__________________________________________________________________________________________________\n",
            "batch_normalization_57 (BatchNo (None, 32, 32, 120)  480         concatenate_52[0][0]             \n",
            "__________________________________________________________________________________________________\n",
            "activation_57 (Activation)      (None, 32, 32, 120)  0           batch_normalization_57[0][0]     \n",
            "__________________________________________________________________________________________________\n",
            "conv2d_58 (Conv2D)              (None, 32, 32, 24)   25920       activation_57[0][0]              \n",
            "__________________________________________________________________________________________________\n",
            "dropout_56 (Dropout)            (None, 32, 32, 24)   0           conv2d_58[0][0]                  \n",
            "__________________________________________________________________________________________________\n",
            "concatenate_53 (Concatenate)    (None, 32, 32, 144)  0           concatenate_52[0][0]             \n",
            "                                                                 dropout_56[0][0]                 \n",
            "__________________________________________________________________________________________________\n",
            "batch_normalization_58 (BatchNo (None, 32, 32, 144)  576         concatenate_53[0][0]             \n",
            "__________________________________________________________________________________________________\n",
            "activation_58 (Activation)      (None, 32, 32, 144)  0           batch_normalization_58[0][0]     \n",
            "__________________________________________________________________________________________________\n",
            "conv2d_59 (Conv2D)              (None, 32, 32, 24)   31104       activation_58[0][0]              \n",
            "__________________________________________________________________________________________________\n",
            "dropout_57 (Dropout)            (None, 32, 32, 24)   0           conv2d_59[0][0]                  \n",
            "__________________________________________________________________________________________________\n",
            "concatenate_54 (Concatenate)    (None, 32, 32, 168)  0           concatenate_53[0][0]             \n",
            "                                                                 dropout_57[0][0]                 \n",
            "__________________________________________________________________________________________________\n",
            "batch_normalization_59 (BatchNo (None, 32, 32, 168)  672         concatenate_54[0][0]             \n",
            "__________________________________________________________________________________________________\n",
            "activation_59 (Activation)      (None, 32, 32, 168)  0           batch_normalization_59[0][0]     \n",
            "__________________________________________________________________________________________________\n",
            "conv2d_60 (Conv2D)              (None, 32, 32, 24)   36288       activation_59[0][0]              \n",
            "__________________________________________________________________________________________________\n",
            "dropout_58 (Dropout)            (None, 32, 32, 24)   0           conv2d_60[0][0]                  \n",
            "__________________________________________________________________________________________________\n",
            "concatenate_55 (Concatenate)    (None, 32, 32, 192)  0           concatenate_54[0][0]             \n",
            "                                                                 dropout_58[0][0]                 \n",
            "__________________________________________________________________________________________________\n",
            "batch_normalization_60 (BatchNo (None, 32, 32, 192)  768         concatenate_55[0][0]             \n",
            "__________________________________________________________________________________________________\n",
            "activation_60 (Activation)      (None, 32, 32, 192)  0           batch_normalization_60[0][0]     \n",
            "__________________________________________________________________________________________________\n",
            "conv2d_61 (Conv2D)              (None, 32, 32, 24)   41472       activation_60[0][0]              \n",
            "__________________________________________________________________________________________________\n",
            "dropout_59 (Dropout)            (None, 32, 32, 24)   0           conv2d_61[0][0]                  \n",
            "__________________________________________________________________________________________________\n",
            "concatenate_56 (Concatenate)    (None, 32, 32, 216)  0           concatenate_55[0][0]             \n",
            "                                                                 dropout_59[0][0]                 \n",
            "__________________________________________________________________________________________________\n",
            "batch_normalization_61 (BatchNo (None, 32, 32, 216)  864         concatenate_56[0][0]             \n",
            "__________________________________________________________________________________________________\n",
            "activation_61 (Activation)      (None, 32, 32, 216)  0           batch_normalization_61[0][0]     \n",
            "__________________________________________________________________________________________________\n",
            "conv2d_62 (Conv2D)              (None, 32, 32, 24)   46656       activation_61[0][0]              \n",
            "__________________________________________________________________________________________________\n",
            "dropout_60 (Dropout)            (None, 32, 32, 24)   0           conv2d_62[0][0]                  \n",
            "__________________________________________________________________________________________________\n",
            "concatenate_57 (Concatenate)    (None, 32, 32, 240)  0           concatenate_56[0][0]             \n",
            "                                                                 dropout_60[0][0]                 \n",
            "__________________________________________________________________________________________________\n",
            "batch_normalization_62 (BatchNo (None, 32, 32, 240)  960         concatenate_57[0][0]             \n",
            "__________________________________________________________________________________________________\n",
            "activation_62 (Activation)      (None, 32, 32, 240)  0           batch_normalization_62[0][0]     \n",
            "__________________________________________________________________________________________________\n",
            "conv2d_63 (Conv2D)              (None, 32, 32, 24)   51840       activation_62[0][0]              \n",
            "__________________________________________________________________________________________________\n",
            "dropout_61 (Dropout)            (None, 32, 32, 24)   0           conv2d_63[0][0]                  \n",
            "__________________________________________________________________________________________________\n",
            "concatenate_58 (Concatenate)    (None, 32, 32, 264)  0           concatenate_57[0][0]             \n",
            "                                                                 dropout_61[0][0]                 \n",
            "__________________________________________________________________________________________________\n",
            "batch_normalization_63 (BatchNo (None, 32, 32, 264)  1056        concatenate_58[0][0]             \n",
            "__________________________________________________________________________________________________\n",
            "activation_63 (Activation)      (None, 32, 32, 264)  0           batch_normalization_63[0][0]     \n",
            "__________________________________________________________________________________________________\n",
            "conv2d_64 (Conv2D)              (None, 32, 32, 24)   57024       activation_63[0][0]              \n",
            "__________________________________________________________________________________________________\n",
            "dropout_62 (Dropout)            (None, 32, 32, 24)   0           conv2d_64[0][0]                  \n",
            "__________________________________________________________________________________________________\n",
            "concatenate_59 (Concatenate)    (None, 32, 32, 288)  0           concatenate_58[0][0]             \n",
            "                                                                 dropout_62[0][0]                 \n",
            "__________________________________________________________________________________________________\n",
            "batch_normalization_64 (BatchNo (None, 32, 32, 288)  1152        concatenate_59[0][0]             \n",
            "__________________________________________________________________________________________________\n",
            "activation_64 (Activation)      (None, 32, 32, 288)  0           batch_normalization_64[0][0]     \n",
            "__________________________________________________________________________________________________\n",
            "conv2d_65 (Conv2D)              (None, 32, 32, 24)   62208       activation_64[0][0]              \n",
            "__________________________________________________________________________________________________\n",
            "dropout_63 (Dropout)            (None, 32, 32, 24)   0           conv2d_65[0][0]                  \n",
            "__________________________________________________________________________________________________\n",
            "concatenate_60 (Concatenate)    (None, 32, 32, 312)  0           concatenate_59[0][0]             \n",
            "                                                                 dropout_63[0][0]                 \n",
            "__________________________________________________________________________________________________\n",
            "batch_normalization_65 (BatchNo (None, 32, 32, 312)  1248        concatenate_60[0][0]             \n",
            "__________________________________________________________________________________________________\n",
            "activation_65 (Activation)      (None, 32, 32, 312)  0           batch_normalization_65[0][0]     \n",
            "__________________________________________________________________________________________________\n",
            "conv2d_66 (Conv2D)              (None, 32, 32, 24)   7488        activation_65[0][0]              \n",
            "__________________________________________________________________________________________________\n",
            "dropout_64 (Dropout)            (None, 32, 32, 24)   0           conv2d_66[0][0]                  \n",
            "__________________________________________________________________________________________________\n",
            "average_pooling2d_5 (AveragePoo (None, 16, 16, 24)   0           dropout_64[0][0]                 \n",
            "__________________________________________________________________________________________________\n",
            "batch_normalization_66 (BatchNo (None, 16, 16, 24)   96          average_pooling2d_5[0][0]        \n",
            "__________________________________________________________________________________________________\n",
            "activation_66 (Activation)      (None, 16, 16, 24)   0           batch_normalization_66[0][0]     \n",
            "__________________________________________________________________________________________________\n",
            "conv2d_67 (Conv2D)              (None, 16, 16, 24)   5184        activation_66[0][0]              \n",
            "__________________________________________________________________________________________________\n",
            "dropout_65 (Dropout)            (None, 16, 16, 24)   0           conv2d_67[0][0]                  \n",
            "__________________________________________________________________________________________________\n",
            "concatenate_61 (Concatenate)    (None, 16, 16, 48)   0           average_pooling2d_5[0][0]        \n",
            "                                                                 dropout_65[0][0]                 \n",
            "__________________________________________________________________________________________________\n",
            "batch_normalization_67 (BatchNo (None, 16, 16, 48)   192         concatenate_61[0][0]             \n",
            "__________________________________________________________________________________________________\n",
            "activation_67 (Activation)      (None, 16, 16, 48)   0           batch_normalization_67[0][0]     \n",
            "__________________________________________________________________________________________________\n",
            "conv2d_68 (Conv2D)              (None, 16, 16, 24)   10368       activation_67[0][0]              \n",
            "__________________________________________________________________________________________________\n",
            "dropout_66 (Dropout)            (None, 16, 16, 24)   0           conv2d_68[0][0]                  \n",
            "__________________________________________________________________________________________________\n",
            "concatenate_62 (Concatenate)    (None, 16, 16, 72)   0           concatenate_61[0][0]             \n",
            "                                                                 dropout_66[0][0]                 \n",
            "__________________________________________________________________________________________________\n",
            "batch_normalization_68 (BatchNo (None, 16, 16, 72)   288         concatenate_62[0][0]             \n",
            "__________________________________________________________________________________________________\n",
            "activation_68 (Activation)      (None, 16, 16, 72)   0           batch_normalization_68[0][0]     \n",
            "__________________________________________________________________________________________________\n",
            "conv2d_69 (Conv2D)              (None, 16, 16, 24)   15552       activation_68[0][0]              \n",
            "__________________________________________________________________________________________________\n",
            "dropout_67 (Dropout)            (None, 16, 16, 24)   0           conv2d_69[0][0]                  \n",
            "__________________________________________________________________________________________________\n",
            "concatenate_63 (Concatenate)    (None, 16, 16, 96)   0           concatenate_62[0][0]             \n",
            "                                                                 dropout_67[0][0]                 \n",
            "__________________________________________________________________________________________________\n",
            "batch_normalization_69 (BatchNo (None, 16, 16, 96)   384         concatenate_63[0][0]             \n",
            "__________________________________________________________________________________________________\n",
            "activation_69 (Activation)      (None, 16, 16, 96)   0           batch_normalization_69[0][0]     \n",
            "__________________________________________________________________________________________________\n",
            "conv2d_70 (Conv2D)              (None, 16, 16, 24)   20736       activation_69[0][0]              \n",
            "__________________________________________________________________________________________________\n",
            "dropout_68 (Dropout)            (None, 16, 16, 24)   0           conv2d_70[0][0]                  \n",
            "__________________________________________________________________________________________________\n",
            "concatenate_64 (Concatenate)    (None, 16, 16, 120)  0           concatenate_63[0][0]             \n",
            "                                                                 dropout_68[0][0]                 \n",
            "__________________________________________________________________________________________________\n",
            "batch_normalization_70 (BatchNo (None, 16, 16, 120)  480         concatenate_64[0][0]             \n",
            "__________________________________________________________________________________________________\n",
            "activation_70 (Activation)      (None, 16, 16, 120)  0           batch_normalization_70[0][0]     \n",
            "__________________________________________________________________________________________________\n",
            "conv2d_71 (Conv2D)              (None, 16, 16, 24)   25920       activation_70[0][0]              \n",
            "__________________________________________________________________________________________________\n",
            "dropout_69 (Dropout)            (None, 16, 16, 24)   0           conv2d_71[0][0]                  \n",
            "__________________________________________________________________________________________________\n",
            "concatenate_65 (Concatenate)    (None, 16, 16, 144)  0           concatenate_64[0][0]             \n",
            "                                                                 dropout_69[0][0]                 \n",
            "__________________________________________________________________________________________________\n",
            "batch_normalization_71 (BatchNo (None, 16, 16, 144)  576         concatenate_65[0][0]             \n",
            "__________________________________________________________________________________________________\n",
            "activation_71 (Activation)      (None, 16, 16, 144)  0           batch_normalization_71[0][0]     \n",
            "__________________________________________________________________________________________________\n",
            "conv2d_72 (Conv2D)              (None, 16, 16, 24)   31104       activation_71[0][0]              \n",
            "__________________________________________________________________________________________________\n",
            "dropout_70 (Dropout)            (None, 16, 16, 24)   0           conv2d_72[0][0]                  \n",
            "__________________________________________________________________________________________________\n",
            "concatenate_66 (Concatenate)    (None, 16, 16, 168)  0           concatenate_65[0][0]             \n",
            "                                                                 dropout_70[0][0]                 \n",
            "__________________________________________________________________________________________________\n",
            "batch_normalization_72 (BatchNo (None, 16, 16, 168)  672         concatenate_66[0][0]             \n",
            "__________________________________________________________________________________________________\n",
            "activation_72 (Activation)      (None, 16, 16, 168)  0           batch_normalization_72[0][0]     \n",
            "__________________________________________________________________________________________________\n",
            "conv2d_73 (Conv2D)              (None, 16, 16, 24)   36288       activation_72[0][0]              \n",
            "__________________________________________________________________________________________________\n",
            "dropout_71 (Dropout)            (None, 16, 16, 24)   0           conv2d_73[0][0]                  \n",
            "__________________________________________________________________________________________________\n",
            "concatenate_67 (Concatenate)    (None, 16, 16, 192)  0           concatenate_66[0][0]             \n",
            "                                                                 dropout_71[0][0]                 \n",
            "__________________________________________________________________________________________________\n",
            "batch_normalization_73 (BatchNo (None, 16, 16, 192)  768         concatenate_67[0][0]             \n",
            "__________________________________________________________________________________________________\n",
            "activation_73 (Activation)      (None, 16, 16, 192)  0           batch_normalization_73[0][0]     \n",
            "__________________________________________________________________________________________________\n",
            "conv2d_74 (Conv2D)              (None, 16, 16, 24)   41472       activation_73[0][0]              \n",
            "__________________________________________________________________________________________________\n",
            "dropout_72 (Dropout)            (None, 16, 16, 24)   0           conv2d_74[0][0]                  \n",
            "__________________________________________________________________________________________________\n",
            "concatenate_68 (Concatenate)    (None, 16, 16, 216)  0           concatenate_67[0][0]             \n",
            "                                                                 dropout_72[0][0]                 \n",
            "__________________________________________________________________________________________________\n",
            "batch_normalization_74 (BatchNo (None, 16, 16, 216)  864         concatenate_68[0][0]             \n",
            "__________________________________________________________________________________________________\n",
            "activation_74 (Activation)      (None, 16, 16, 216)  0           batch_normalization_74[0][0]     \n",
            "__________________________________________________________________________________________________\n",
            "conv2d_75 (Conv2D)              (None, 16, 16, 24)   46656       activation_74[0][0]              \n",
            "__________________________________________________________________________________________________\n",
            "dropout_73 (Dropout)            (None, 16, 16, 24)   0           conv2d_75[0][0]                  \n",
            "__________________________________________________________________________________________________\n",
            "concatenate_69 (Concatenate)    (None, 16, 16, 240)  0           concatenate_68[0][0]             \n",
            "                                                                 dropout_73[0][0]                 \n",
            "__________________________________________________________________________________________________\n",
            "batch_normalization_75 (BatchNo (None, 16, 16, 240)  960         concatenate_69[0][0]             \n",
            "__________________________________________________________________________________________________\n",
            "activation_75 (Activation)      (None, 16, 16, 240)  0           batch_normalization_75[0][0]     \n",
            "__________________________________________________________________________________________________\n",
            "conv2d_76 (Conv2D)              (None, 16, 16, 24)   51840       activation_75[0][0]              \n",
            "__________________________________________________________________________________________________\n",
            "dropout_74 (Dropout)            (None, 16, 16, 24)   0           conv2d_76[0][0]                  \n",
            "__________________________________________________________________________________________________\n",
            "concatenate_70 (Concatenate)    (None, 16, 16, 264)  0           concatenate_69[0][0]             \n",
            "                                                                 dropout_74[0][0]                 \n",
            "__________________________________________________________________________________________________\n",
            "batch_normalization_76 (BatchNo (None, 16, 16, 264)  1056        concatenate_70[0][0]             \n",
            "__________________________________________________________________________________________________\n",
            "activation_76 (Activation)      (None, 16, 16, 264)  0           batch_normalization_76[0][0]     \n",
            "__________________________________________________________________________________________________\n",
            "conv2d_77 (Conv2D)              (None, 16, 16, 24)   57024       activation_76[0][0]              \n",
            "__________________________________________________________________________________________________\n",
            "dropout_75 (Dropout)            (None, 16, 16, 24)   0           conv2d_77[0][0]                  \n",
            "__________________________________________________________________________________________________\n",
            "concatenate_71 (Concatenate)    (None, 16, 16, 288)  0           concatenate_70[0][0]             \n",
            "                                                                 dropout_75[0][0]                 \n",
            "__________________________________________________________________________________________________\n",
            "batch_normalization_77 (BatchNo (None, 16, 16, 288)  1152        concatenate_71[0][0]             \n",
            "__________________________________________________________________________________________________\n",
            "activation_77 (Activation)      (None, 16, 16, 288)  0           batch_normalization_77[0][0]     \n",
            "__________________________________________________________________________________________________\n",
            "conv2d_78 (Conv2D)              (None, 16, 16, 24)   62208       activation_77[0][0]              \n",
            "__________________________________________________________________________________________________\n",
            "dropout_76 (Dropout)            (None, 16, 16, 24)   0           conv2d_78[0][0]                  \n",
            "__________________________________________________________________________________________________\n",
            "concatenate_72 (Concatenate)    (None, 16, 16, 312)  0           concatenate_71[0][0]             \n",
            "                                                                 dropout_76[0][0]                 \n",
            "__________________________________________________________________________________________________\n",
            "batch_normalization_78 (BatchNo (None, 16, 16, 312)  1248        concatenate_72[0][0]             \n",
            "__________________________________________________________________________________________________\n",
            "activation_78 (Activation)      (None, 16, 16, 312)  0           batch_normalization_78[0][0]     \n",
            "__________________________________________________________________________________________________\n",
            "conv2d_79 (Conv2D)              (None, 16, 16, 24)   7488        activation_78[0][0]              \n",
            "__________________________________________________________________________________________________\n",
            "dropout_77 (Dropout)            (None, 16, 16, 24)   0           conv2d_79[0][0]                  \n",
            "__________________________________________________________________________________________________\n",
            "average_pooling2d_6 (AveragePoo (None, 8, 8, 24)     0           dropout_77[0][0]                 \n",
            "__________________________________________________________________________________________________\n",
            "batch_normalization_79 (BatchNo (None, 8, 8, 24)     96          average_pooling2d_6[0][0]        \n",
            "__________________________________________________________________________________________________\n",
            "activation_79 (Activation)      (None, 8, 8, 24)     0           batch_normalization_79[0][0]     \n",
            "__________________________________________________________________________________________________\n",
            "conv2d_80 (Conv2D)              (None, 8, 8, 24)     5184        activation_79[0][0]              \n",
            "__________________________________________________________________________________________________\n",
            "dropout_78 (Dropout)            (None, 8, 8, 24)     0           conv2d_80[0][0]                  \n",
            "__________________________________________________________________________________________________\n",
            "concatenate_73 (Concatenate)    (None, 8, 8, 48)     0           average_pooling2d_6[0][0]        \n",
            "                                                                 dropout_78[0][0]                 \n",
            "__________________________________________________________________________________________________\n",
            "batch_normalization_80 (BatchNo (None, 8, 8, 48)     192         concatenate_73[0][0]             \n",
            "__________________________________________________________________________________________________\n",
            "activation_80 (Activation)      (None, 8, 8, 48)     0           batch_normalization_80[0][0]     \n",
            "__________________________________________________________________________________________________\n",
            "conv2d_81 (Conv2D)              (None, 8, 8, 24)     10368       activation_80[0][0]              \n",
            "__________________________________________________________________________________________________\n",
            "dropout_79 (Dropout)            (None, 8, 8, 24)     0           conv2d_81[0][0]                  \n",
            "__________________________________________________________________________________________________\n",
            "concatenate_74 (Concatenate)    (None, 8, 8, 72)     0           concatenate_73[0][0]             \n",
            "                                                                 dropout_79[0][0]                 \n",
            "__________________________________________________________________________________________________\n",
            "batch_normalization_81 (BatchNo (None, 8, 8, 72)     288         concatenate_74[0][0]             \n",
            "__________________________________________________________________________________________________\n",
            "activation_81 (Activation)      (None, 8, 8, 72)     0           batch_normalization_81[0][0]     \n",
            "__________________________________________________________________________________________________\n",
            "conv2d_82 (Conv2D)              (None, 8, 8, 24)     15552       activation_81[0][0]              \n",
            "__________________________________________________________________________________________________\n",
            "dropout_80 (Dropout)            (None, 8, 8, 24)     0           conv2d_82[0][0]                  \n",
            "__________________________________________________________________________________________________\n",
            "concatenate_75 (Concatenate)    (None, 8, 8, 96)     0           concatenate_74[0][0]             \n",
            "                                                                 dropout_80[0][0]                 \n",
            "__________________________________________________________________________________________________\n",
            "batch_normalization_82 (BatchNo (None, 8, 8, 96)     384         concatenate_75[0][0]             \n",
            "__________________________________________________________________________________________________\n",
            "activation_82 (Activation)      (None, 8, 8, 96)     0           batch_normalization_82[0][0]     \n",
            "__________________________________________________________________________________________________\n",
            "conv2d_83 (Conv2D)              (None, 8, 8, 24)     20736       activation_82[0][0]              \n",
            "__________________________________________________________________________________________________\n",
            "dropout_81 (Dropout)            (None, 8, 8, 24)     0           conv2d_83[0][0]                  \n",
            "__________________________________________________________________________________________________\n",
            "concatenate_76 (Concatenate)    (None, 8, 8, 120)    0           concatenate_75[0][0]             \n",
            "                                                                 dropout_81[0][0]                 \n",
            "__________________________________________________________________________________________________\n",
            "batch_normalization_83 (BatchNo (None, 8, 8, 120)    480         concatenate_76[0][0]             \n",
            "__________________________________________________________________________________________________\n",
            "activation_83 (Activation)      (None, 8, 8, 120)    0           batch_normalization_83[0][0]     \n",
            "__________________________________________________________________________________________________\n",
            "conv2d_84 (Conv2D)              (None, 8, 8, 24)     25920       activation_83[0][0]              \n",
            "__________________________________________________________________________________________________\n",
            "dropout_82 (Dropout)            (None, 8, 8, 24)     0           conv2d_84[0][0]                  \n",
            "__________________________________________________________________________________________________\n",
            "concatenate_77 (Concatenate)    (None, 8, 8, 144)    0           concatenate_76[0][0]             \n",
            "                                                                 dropout_82[0][0]                 \n",
            "__________________________________________________________________________________________________\n",
            "batch_normalization_84 (BatchNo (None, 8, 8, 144)    576         concatenate_77[0][0]             \n",
            "__________________________________________________________________________________________________\n",
            "activation_84 (Activation)      (None, 8, 8, 144)    0           batch_normalization_84[0][0]     \n",
            "__________________________________________________________________________________________________\n",
            "conv2d_85 (Conv2D)              (None, 8, 8, 24)     31104       activation_84[0][0]              \n",
            "__________________________________________________________________________________________________\n",
            "dropout_83 (Dropout)            (None, 8, 8, 24)     0           conv2d_85[0][0]                  \n",
            "__________________________________________________________________________________________________\n",
            "concatenate_78 (Concatenate)    (None, 8, 8, 168)    0           concatenate_77[0][0]             \n",
            "                                                                 dropout_83[0][0]                 \n",
            "__________________________________________________________________________________________________\n",
            "batch_normalization_85 (BatchNo (None, 8, 8, 168)    672         concatenate_78[0][0]             \n",
            "__________________________________________________________________________________________________\n",
            "activation_85 (Activation)      (None, 8, 8, 168)    0           batch_normalization_85[0][0]     \n",
            "__________________________________________________________________________________________________\n",
            "conv2d_86 (Conv2D)              (None, 8, 8, 24)     36288       activation_85[0][0]              \n",
            "__________________________________________________________________________________________________\n",
            "dropout_84 (Dropout)            (None, 8, 8, 24)     0           conv2d_86[0][0]                  \n",
            "__________________________________________________________________________________________________\n",
            "concatenate_79 (Concatenate)    (None, 8, 8, 192)    0           concatenate_78[0][0]             \n",
            "                                                                 dropout_84[0][0]                 \n",
            "__________________________________________________________________________________________________\n",
            "batch_normalization_86 (BatchNo (None, 8, 8, 192)    768         concatenate_79[0][0]             \n",
            "__________________________________________________________________________________________________\n",
            "activation_86 (Activation)      (None, 8, 8, 192)    0           batch_normalization_86[0][0]     \n",
            "__________________________________________________________________________________________________\n",
            "conv2d_87 (Conv2D)              (None, 8, 8, 24)     41472       activation_86[0][0]              \n",
            "__________________________________________________________________________________________________\n",
            "dropout_85 (Dropout)            (None, 8, 8, 24)     0           conv2d_87[0][0]                  \n",
            "__________________________________________________________________________________________________\n",
            "concatenate_80 (Concatenate)    (None, 8, 8, 216)    0           concatenate_79[0][0]             \n",
            "                                                                 dropout_85[0][0]                 \n",
            "__________________________________________________________________________________________________\n",
            "batch_normalization_87 (BatchNo (None, 8, 8, 216)    864         concatenate_80[0][0]             \n",
            "__________________________________________________________________________________________________\n",
            "activation_87 (Activation)      (None, 8, 8, 216)    0           batch_normalization_87[0][0]     \n",
            "__________________________________________________________________________________________________\n",
            "conv2d_88 (Conv2D)              (None, 8, 8, 24)     46656       activation_87[0][0]              \n",
            "__________________________________________________________________________________________________\n",
            "dropout_86 (Dropout)            (None, 8, 8, 24)     0           conv2d_88[0][0]                  \n",
            "__________________________________________________________________________________________________\n",
            "concatenate_81 (Concatenate)    (None, 8, 8, 240)    0           concatenate_80[0][0]             \n",
            "                                                                 dropout_86[0][0]                 \n",
            "__________________________________________________________________________________________________\n",
            "batch_normalization_88 (BatchNo (None, 8, 8, 240)    960         concatenate_81[0][0]             \n",
            "__________________________________________________________________________________________________\n",
            "activation_88 (Activation)      (None, 8, 8, 240)    0           batch_normalization_88[0][0]     \n",
            "__________________________________________________________________________________________________\n",
            "conv2d_89 (Conv2D)              (None, 8, 8, 24)     51840       activation_88[0][0]              \n",
            "__________________________________________________________________________________________________\n",
            "dropout_87 (Dropout)            (None, 8, 8, 24)     0           conv2d_89[0][0]                  \n",
            "__________________________________________________________________________________________________\n",
            "concatenate_82 (Concatenate)    (None, 8, 8, 264)    0           concatenate_81[0][0]             \n",
            "                                                                 dropout_87[0][0]                 \n",
            "__________________________________________________________________________________________________\n",
            "batch_normalization_89 (BatchNo (None, 8, 8, 264)    1056        concatenate_82[0][0]             \n",
            "__________________________________________________________________________________________________\n",
            "activation_89 (Activation)      (None, 8, 8, 264)    0           batch_normalization_89[0][0]     \n",
            "__________________________________________________________________________________________________\n",
            "conv2d_90 (Conv2D)              (None, 8, 8, 24)     57024       activation_89[0][0]              \n",
            "__________________________________________________________________________________________________\n",
            "dropout_88 (Dropout)            (None, 8, 8, 24)     0           conv2d_90[0][0]                  \n",
            "__________________________________________________________________________________________________\n",
            "concatenate_83 (Concatenate)    (None, 8, 8, 288)    0           concatenate_82[0][0]             \n",
            "                                                                 dropout_88[0][0]                 \n",
            "__________________________________________________________________________________________________\n",
            "batch_normalization_90 (BatchNo (None, 8, 8, 288)    1152        concatenate_83[0][0]             \n",
            "__________________________________________________________________________________________________\n",
            "activation_90 (Activation)      (None, 8, 8, 288)    0           batch_normalization_90[0][0]     \n",
            "__________________________________________________________________________________________________\n",
            "conv2d_91 (Conv2D)              (None, 8, 8, 24)     62208       activation_90[0][0]              \n",
            "__________________________________________________________________________________________________\n",
            "dropout_89 (Dropout)            (None, 8, 8, 24)     0           conv2d_91[0][0]                  \n",
            "__________________________________________________________________________________________________\n",
            "concatenate_84 (Concatenate)    (None, 8, 8, 312)    0           concatenate_83[0][0]             \n",
            "                                                                 dropout_89[0][0]                 \n",
            "__________________________________________________________________________________________________\n",
            "batch_normalization_91 (BatchNo (None, 8, 8, 312)    1248        concatenate_84[0][0]             \n",
            "__________________________________________________________________________________________________\n",
            "activation_91 (Activation)      (None, 8, 8, 312)    0           batch_normalization_91[0][0]     \n",
            "__________________________________________________________________________________________________\n",
            "conv2d_92 (Conv2D)              (None, 8, 8, 24)     7488        activation_91[0][0]              \n",
            "__________________________________________________________________________________________________\n",
            "dropout_90 (Dropout)            (None, 8, 8, 24)     0           conv2d_92[0][0]                  \n",
            "__________________________________________________________________________________________________\n",
            "average_pooling2d_7 (AveragePoo (None, 4, 4, 24)     0           dropout_90[0][0]                 \n",
            "__________________________________________________________________________________________________\n",
            "batch_normalization_92 (BatchNo (None, 4, 4, 24)     96          average_pooling2d_7[0][0]        \n",
            "__________________________________________________________________________________________________\n",
            "activation_92 (Activation)      (None, 4, 4, 24)     0           batch_normalization_92[0][0]     \n",
            "__________________________________________________________________________________________________\n",
            "conv2d_93 (Conv2D)              (None, 4, 4, 24)     5184        activation_92[0][0]              \n",
            "__________________________________________________________________________________________________\n",
            "dropout_91 (Dropout)            (None, 4, 4, 24)     0           conv2d_93[0][0]                  \n",
            "__________________________________________________________________________________________________\n",
            "concatenate_85 (Concatenate)    (None, 4, 4, 48)     0           average_pooling2d_7[0][0]        \n",
            "                                                                 dropout_91[0][0]                 \n",
            "__________________________________________________________________________________________________\n",
            "batch_normalization_93 (BatchNo (None, 4, 4, 48)     192         concatenate_85[0][0]             \n",
            "__________________________________________________________________________________________________\n",
            "activation_93 (Activation)      (None, 4, 4, 48)     0           batch_normalization_93[0][0]     \n",
            "__________________________________________________________________________________________________\n",
            "conv2d_94 (Conv2D)              (None, 4, 4, 24)     10368       activation_93[0][0]              \n",
            "__________________________________________________________________________________________________\n",
            "dropout_92 (Dropout)            (None, 4, 4, 24)     0           conv2d_94[0][0]                  \n",
            "__________________________________________________________________________________________________\n",
            "concatenate_86 (Concatenate)    (None, 4, 4, 72)     0           concatenate_85[0][0]             \n",
            "                                                                 dropout_92[0][0]                 \n",
            "__________________________________________________________________________________________________\n",
            "batch_normalization_94 (BatchNo (None, 4, 4, 72)     288         concatenate_86[0][0]             \n",
            "__________________________________________________________________________________________________\n",
            "activation_94 (Activation)      (None, 4, 4, 72)     0           batch_normalization_94[0][0]     \n",
            "__________________________________________________________________________________________________\n",
            "conv2d_95 (Conv2D)              (None, 4, 4, 24)     15552       activation_94[0][0]              \n",
            "__________________________________________________________________________________________________\n",
            "dropout_93 (Dropout)            (None, 4, 4, 24)     0           conv2d_95[0][0]                  \n",
            "__________________________________________________________________________________________________\n",
            "concatenate_87 (Concatenate)    (None, 4, 4, 96)     0           concatenate_86[0][0]             \n",
            "                                                                 dropout_93[0][0]                 \n",
            "__________________________________________________________________________________________________\n",
            "batch_normalization_95 (BatchNo (None, 4, 4, 96)     384         concatenate_87[0][0]             \n",
            "__________________________________________________________________________________________________\n",
            "activation_95 (Activation)      (None, 4, 4, 96)     0           batch_normalization_95[0][0]     \n",
            "__________________________________________________________________________________________________\n",
            "conv2d_96 (Conv2D)              (None, 4, 4, 24)     20736       activation_95[0][0]              \n",
            "__________________________________________________________________________________________________\n",
            "dropout_94 (Dropout)            (None, 4, 4, 24)     0           conv2d_96[0][0]                  \n",
            "__________________________________________________________________________________________________\n",
            "concatenate_88 (Concatenate)    (None, 4, 4, 120)    0           concatenate_87[0][0]             \n",
            "                                                                 dropout_94[0][0]                 \n",
            "__________________________________________________________________________________________________\n",
            "batch_normalization_96 (BatchNo (None, 4, 4, 120)    480         concatenate_88[0][0]             \n",
            "__________________________________________________________________________________________________\n",
            "activation_96 (Activation)      (None, 4, 4, 120)    0           batch_normalization_96[0][0]     \n",
            "__________________________________________________________________________________________________\n",
            "conv2d_97 (Conv2D)              (None, 4, 4, 24)     25920       activation_96[0][0]              \n",
            "__________________________________________________________________________________________________\n",
            "dropout_95 (Dropout)            (None, 4, 4, 24)     0           conv2d_97[0][0]                  \n",
            "__________________________________________________________________________________________________\n",
            "concatenate_89 (Concatenate)    (None, 4, 4, 144)    0           concatenate_88[0][0]             \n",
            "                                                                 dropout_95[0][0]                 \n",
            "__________________________________________________________________________________________________\n",
            "batch_normalization_97 (BatchNo (None, 4, 4, 144)    576         concatenate_89[0][0]             \n",
            "__________________________________________________________________________________________________\n",
            "activation_97 (Activation)      (None, 4, 4, 144)    0           batch_normalization_97[0][0]     \n",
            "__________________________________________________________________________________________________\n",
            "conv2d_98 (Conv2D)              (None, 4, 4, 24)     31104       activation_97[0][0]              \n",
            "__________________________________________________________________________________________________\n",
            "dropout_96 (Dropout)            (None, 4, 4, 24)     0           conv2d_98[0][0]                  \n",
            "__________________________________________________________________________________________________\n",
            "concatenate_90 (Concatenate)    (None, 4, 4, 168)    0           concatenate_89[0][0]             \n",
            "                                                                 dropout_96[0][0]                 \n",
            "__________________________________________________________________________________________________\n",
            "batch_normalization_98 (BatchNo (None, 4, 4, 168)    672         concatenate_90[0][0]             \n",
            "__________________________________________________________________________________________________\n",
            "activation_98 (Activation)      (None, 4, 4, 168)    0           batch_normalization_98[0][0]     \n",
            "__________________________________________________________________________________________________\n",
            "conv2d_99 (Conv2D)              (None, 4, 4, 24)     36288       activation_98[0][0]              \n",
            "__________________________________________________________________________________________________\n",
            "dropout_97 (Dropout)            (None, 4, 4, 24)     0           conv2d_99[0][0]                  \n",
            "__________________________________________________________________________________________________\n",
            "concatenate_91 (Concatenate)    (None, 4, 4, 192)    0           concatenate_90[0][0]             \n",
            "                                                                 dropout_97[0][0]                 \n",
            "__________________________________________________________________________________________________\n",
            "batch_normalization_99 (BatchNo (None, 4, 4, 192)    768         concatenate_91[0][0]             \n",
            "__________________________________________________________________________________________________\n",
            "activation_99 (Activation)      (None, 4, 4, 192)    0           batch_normalization_99[0][0]     \n",
            "__________________________________________________________________________________________________\n",
            "conv2d_100 (Conv2D)             (None, 4, 4, 24)     41472       activation_99[0][0]              \n",
            "__________________________________________________________________________________________________\n",
            "dropout_98 (Dropout)            (None, 4, 4, 24)     0           conv2d_100[0][0]                 \n",
            "__________________________________________________________________________________________________\n",
            "concatenate_92 (Concatenate)    (None, 4, 4, 216)    0           concatenate_91[0][0]             \n",
            "                                                                 dropout_98[0][0]                 \n",
            "__________________________________________________________________________________________________\n",
            "batch_normalization_100 (BatchN (None, 4, 4, 216)    864         concatenate_92[0][0]             \n",
            "__________________________________________________________________________________________________\n",
            "activation_100 (Activation)     (None, 4, 4, 216)    0           batch_normalization_100[0][0]    \n",
            "__________________________________________________________________________________________________\n",
            "conv2d_101 (Conv2D)             (None, 4, 4, 24)     46656       activation_100[0][0]             \n",
            "__________________________________________________________________________________________________\n",
            "dropout_99 (Dropout)            (None, 4, 4, 24)     0           conv2d_101[0][0]                 \n",
            "__________________________________________________________________________________________________\n",
            "concatenate_93 (Concatenate)    (None, 4, 4, 240)    0           concatenate_92[0][0]             \n",
            "                                                                 dropout_99[0][0]                 \n",
            "__________________________________________________________________________________________________\n",
            "batch_normalization_101 (BatchN (None, 4, 4, 240)    960         concatenate_93[0][0]             \n",
            "__________________________________________________________________________________________________\n",
            "activation_101 (Activation)     (None, 4, 4, 240)    0           batch_normalization_101[0][0]    \n",
            "__________________________________________________________________________________________________\n",
            "conv2d_102 (Conv2D)             (None, 4, 4, 24)     51840       activation_101[0][0]             \n",
            "__________________________________________________________________________________________________\n",
            "dropout_100 (Dropout)           (None, 4, 4, 24)     0           conv2d_102[0][0]                 \n",
            "__________________________________________________________________________________________________\n",
            "concatenate_94 (Concatenate)    (None, 4, 4, 264)    0           concatenate_93[0][0]             \n",
            "                                                                 dropout_100[0][0]                \n",
            "__________________________________________________________________________________________________\n",
            "batch_normalization_102 (BatchN (None, 4, 4, 264)    1056        concatenate_94[0][0]             \n",
            "__________________________________________________________________________________________________\n",
            "activation_102 (Activation)     (None, 4, 4, 264)    0           batch_normalization_102[0][0]    \n",
            "__________________________________________________________________________________________________\n",
            "conv2d_103 (Conv2D)             (None, 4, 4, 24)     57024       activation_102[0][0]             \n",
            "__________________________________________________________________________________________________\n",
            "dropout_101 (Dropout)           (None, 4, 4, 24)     0           conv2d_103[0][0]                 \n",
            "__________________________________________________________________________________________________\n",
            "concatenate_95 (Concatenate)    (None, 4, 4, 288)    0           concatenate_94[0][0]             \n",
            "                                                                 dropout_101[0][0]                \n",
            "__________________________________________________________________________________________________\n",
            "batch_normalization_103 (BatchN (None, 4, 4, 288)    1152        concatenate_95[0][0]             \n",
            "__________________________________________________________________________________________________\n",
            "activation_103 (Activation)     (None, 4, 4, 288)    0           batch_normalization_103[0][0]    \n",
            "__________________________________________________________________________________________________\n",
            "conv2d_104 (Conv2D)             (None, 4, 4, 24)     62208       activation_103[0][0]             \n",
            "__________________________________________________________________________________________________\n",
            "dropout_102 (Dropout)           (None, 4, 4, 24)     0           conv2d_104[0][0]                 \n",
            "__________________________________________________________________________________________________\n",
            "concatenate_96 (Concatenate)    (None, 4, 4, 312)    0           concatenate_95[0][0]             \n",
            "                                                                 dropout_102[0][0]                \n",
            "__________________________________________________________________________________________________\n",
            "batch_normalization_104 (BatchN (None, 4, 4, 312)    1248        concatenate_96[0][0]             \n",
            "__________________________________________________________________________________________________\n",
            "activation_104 (Activation)     (None, 4, 4, 312)    0           batch_normalization_104[0][0]    \n",
            "__________________________________________________________________________________________________\n",
            "average_pooling2d_8 (AveragePoo (None, 2, 2, 312)    0           activation_104[0][0]             \n",
            "__________________________________________________________________________________________________\n",
            "flatten_2 (Flatten)             (None, 1248)         0           average_pooling2d_8[0][0]        \n",
            "__________________________________________________________________________________________________\n",
            "dense_2 (Dense)                 (None, 10)           12490       flatten_2[0][0]                  \n",
            "==================================================================================================\n",
            "Total params: 1,687,954\n",
            "Trainable params: 1,670,482\n",
            "Non-trainable params: 17,472\n",
            "__________________________________________________________________________________________________\n"
          ],
          "name": "stdout"
        }
      ]
    },
    {
      "metadata": {
        "id": "A2Y8tqv34hMF",
        "colab_type": "code",
        "colab": {
          "autoexec": {
            "startup": false,
            "wait_interval": 0
          }
        }
      },
      "cell_type": "code",
      "source": [
        "# determine Loss function and Optimizer\n",
        "model.compile(loss='categorical_crossentropy',\n",
        "              optimizer=Adam(),\n",
        "              metrics=['accuracy'])"
      ],
      "execution_count": 0,
      "outputs": []
    },
    {
      "metadata": {
        "id": "J-6q9V1JWilv",
        "colab_type": "code",
        "colab": {
          "autoexec": {
            "startup": false,
            "wait_interval": 0
          }
        }
      },
      "cell_type": "code",
      "source": [
        "# checkpoint\n",
        "filepath=\"weights.best.hdf5\"\n",
        "checkpoint = ModelCheckpoint(filepath, monitor='val_acc', verbose=1, save_best_only=True, mode='max')\n",
        "callbacks_list = [checkpoint]"
      ],
      "execution_count": 0,
      "outputs": []
    },
    {
      "metadata": {
        "id": "k3RE9Pdr4lrm",
        "colab_type": "code",
        "colab": {
          "autoexec": {
            "startup": false,
            "wait_interval": 0
          },
          "base_uri": "https://localhost:8080/",
          "height": 3430
        },
        "outputId": "a9e393a0-0847-427a-84e4-aa011f5f2003",
        "executionInfo": {
          "status": "ok",
          "timestamp": 1526484678325,
          "user_tz": -330,
          "elapsed": 16521212,
          "user": {
            "displayName": "Lone Pack",
            "photoUrl": "https://lh3.googleusercontent.com/a/default-user=s128",
            "userId": "104686426490138401568"
          }
        }
      },
      "cell_type": "code",
      "source": [
        "# Train the model\n",
        "model.fit(x_train, y_train,\n",
        "                    batch_size=batch_size,\n",
        "                    epochs=epochs,\n",
        "                    verbose=1,\n",
        "                    callbacks=callbacks_list,\n",
        "                    validation_data=(x_test, y_test))"
      ],
      "execution_count": 27,
      "outputs": [
        {
          "output_type": "stream",
          "text": [
            "Train on 50000 samples, validate on 10000 samples\n",
            "Epoch 1/50\n",
            "50000/50000 [==============================] - 353s 7ms/step - loss: 1.4890 - acc: 0.4504 - val_loss: 1.7236 - val_acc: 0.4102\n",
            "\n",
            "Epoch 00001: val_acc improved from -inf to 0.41020, saving model to weights.best.hdf5\n",
            "Epoch 2/50\n",
            "48640/50000 [============================>.] - ETA: 8s - loss: 1.0349 - acc: 0.6272"
          ],
          "name": "stdout"
        },
        {
          "output_type": "stream",
          "text": [
            "50000/50000 [==============================] - 329s 7ms/step - loss: 1.0320 - acc: 0.6284 - val_loss: 1.3420 - val_acc: 0.5728\n",
            "\n",
            "Epoch 00002: val_acc improved from 0.41020 to 0.57280, saving model to weights.best.hdf5\n",
            "Epoch 3/50\n",
            "50000/50000 [==============================] - 329s 7ms/step - loss: 0.8350 - acc: 0.7025 - val_loss: 1.1301 - val_acc: 0.6535\n",
            "\n",
            "Epoch 00003: val_acc improved from 0.57280 to 0.65350, saving model to weights.best.hdf5\n",
            "Epoch 4/50\n",
            "17152/50000 [=========>....................] - ETA: 3:19 - loss: 0.7157 - acc: 0.7463"
          ],
          "name": "stdout"
        },
        {
          "output_type": "stream",
          "text": [
            "50000/50000 [==============================] - 329s 7ms/step - loss: 0.7177 - acc: 0.7455 - val_loss: 1.5197 - val_acc: 0.6154\n",
            "\n",
            "Epoch 00004: val_acc did not improve from 0.65350\n",
            "Epoch 5/50\n",
            "50000/50000 [==============================] - 329s 7ms/step - loss: 0.6266 - acc: 0.7775 - val_loss: 0.9711 - val_acc: 0.7128\n",
            "\n",
            "Epoch 00005: val_acc improved from 0.65350 to 0.71280, saving model to weights.best.hdf5\n",
            "Epoch 6/50\n",
            "17408/50000 [=========>....................] - ETA: 3:18 - loss: 0.5684 - acc: 0.7986"
          ],
          "name": "stdout"
        },
        {
          "output_type": "stream",
          "text": [
            "50000/50000 [==============================] - 328s 7ms/step - loss: 0.5680 - acc: 0.7992 - val_loss: 0.7324 - val_acc: 0.7669\n",
            "\n",
            "Epoch 00006: val_acc improved from 0.71280 to 0.76690, saving model to weights.best.hdf5\n",
            "Epoch 7/50\n",
            "50000/50000 [==============================] - 328s 7ms/step - loss: 0.5156 - acc: 0.8189 - val_loss: 0.6908 - val_acc: 0.7803\n",
            "\n",
            "Epoch 00007: val_acc improved from 0.76690 to 0.78030, saving model to weights.best.hdf5\n",
            "Epoch 8/50\n",
            "12288/50000 [======>.......................] - ETA: 3:48 - loss: 0.4699 - acc: 0.8302"
          ],
          "name": "stdout"
        },
        {
          "output_type": "stream",
          "text": [
            "50000/50000 [==============================] - 328s 7ms/step - loss: 0.4741 - acc: 0.8322 - val_loss: 0.9445 - val_acc: 0.7314\n",
            "\n",
            "Epoch 00008: val_acc did not improve from 0.78030\n",
            "Epoch 9/50\n",
            "50000/50000 [==============================] - 329s 7ms/step - loss: 0.4443 - acc: 0.8461 - val_loss: 0.6895 - val_acc: 0.7909\n",
            "\n",
            "Epoch 00009: val_acc improved from 0.78030 to 0.79090, saving model to weights.best.hdf5\n",
            "Epoch 10/50\n",
            "16384/50000 [========>.....................] - ETA: 3:24 - loss: 0.4222 - acc: 0.8510"
          ],
          "name": "stdout"
        },
        {
          "output_type": "stream",
          "text": [
            "50000/50000 [==============================] - 329s 7ms/step - loss: 0.4139 - acc: 0.8551 - val_loss: 0.8280 - val_acc: 0.7606\n",
            "\n",
            "Epoch 00010: val_acc did not improve from 0.79090\n",
            "Epoch 11/50\n",
            "50000/50000 [==============================] - 330s 7ms/step - loss: 0.3879 - acc: 0.8631 - val_loss: 0.7793 - val_acc: 0.7876\n",
            "\n",
            "Epoch 00011: val_acc did not improve from 0.79090\n",
            "Epoch 12/50\n",
            "18688/50000 [==========>...................] - ETA: 3:10 - loss: 0.3561 - acc: 0.8733"
          ],
          "name": "stdout"
        },
        {
          "output_type": "stream",
          "text": [
            "50000/50000 [==============================] - 329s 7ms/step - loss: 0.3602 - acc: 0.8717 - val_loss: 1.0503 - val_acc: 0.7202\n",
            "\n",
            "Epoch 00012: val_acc did not improve from 0.79090\n",
            "Epoch 13/50\n",
            "50000/50000 [==============================] - 329s 7ms/step - loss: 0.3410 - acc: 0.8807 - val_loss: 0.8753 - val_acc: 0.7652\n",
            "\n",
            "Epoch 00013: val_acc did not improve from 0.79090\n",
            "Epoch 14/50\n",
            "19200/50000 [==========>...................] - ETA: 3:07 - loss: 0.3203 - acc: 0.8863"
          ],
          "name": "stdout"
        },
        {
          "output_type": "stream",
          "text": [
            "50000/50000 [==============================] - 329s 7ms/step - loss: 0.3231 - acc: 0.8863 - val_loss: 1.4062 - val_acc: 0.6600\n",
            "\n",
            "Epoch 00014: val_acc did not improve from 0.79090\n",
            "Epoch 15/50\n",
            "50000/50000 [==============================] - 329s 7ms/step - loss: 0.3084 - acc: 0.8920 - val_loss: 0.7702 - val_acc: 0.7957\n",
            "\n",
            "Epoch 00015: val_acc improved from 0.79090 to 0.79570, saving model to weights.best.hdf5\n",
            "Epoch 16/50\n",
            "17408/50000 [=========>....................] - ETA: 3:18 - loss: 0.2740 - acc: 0.9030"
          ],
          "name": "stdout"
        },
        {
          "output_type": "stream",
          "text": [
            "50000/50000 [==============================] - 329s 7ms/step - loss: 0.2892 - acc: 0.8980 - val_loss: 0.6987 - val_acc: 0.8031\n",
            "\n",
            "Epoch 00016: val_acc improved from 0.79570 to 0.80310, saving model to weights.best.hdf5\n",
            "Epoch 17/50\n",
            "50000/50000 [==============================] - 329s 7ms/step - loss: 0.2780 - acc: 0.9018 - val_loss: 0.6819 - val_acc: 0.8151\n",
            "\n",
            "Epoch 00017: val_acc improved from 0.80310 to 0.81510, saving model to weights.best.hdf5\n",
            "Epoch 18/50\n",
            "12288/50000 [======>.......................] - ETA: 3:50 - loss: 0.2517 - acc: 0.9109"
          ],
          "name": "stdout"
        },
        {
          "output_type": "stream",
          "text": [
            "50000/50000 [==============================] - 331s 7ms/step - loss: 0.2670 - acc: 0.9054 - val_loss: 0.7579 - val_acc: 0.8035\n",
            "\n",
            "Epoch 00018: val_acc did not improve from 0.81510\n",
            "Epoch 19/50\n",
            "50000/50000 [==============================] - 329s 7ms/step - loss: 0.2456 - acc: 0.9133 - val_loss: 0.6334 - val_acc: 0.8278\n",
            "\n",
            "Epoch 00019: val_acc improved from 0.81510 to 0.82780, saving model to weights.best.hdf5\n",
            "Epoch 20/50\n",
            "16384/50000 [========>.....................] - ETA: 3:25 - loss: 0.2398 - acc: 0.9153"
          ],
          "name": "stdout"
        },
        {
          "output_type": "stream",
          "text": [
            "50000/50000 [==============================] - 330s 7ms/step - loss: 0.2402 - acc: 0.9140 - val_loss: 1.3501 - val_acc: 0.7353\n",
            "\n",
            "Epoch 00020: val_acc did not improve from 0.82780\n",
            "Epoch 21/50\n",
            "50000/50000 [==============================] - 329s 7ms/step - loss: 0.2259 - acc: 0.9204 - val_loss: 0.8960 - val_acc: 0.7767\n",
            "\n",
            "Epoch 00021: val_acc did not improve from 0.82780\n",
            "Epoch 22/50\n",
            "18688/50000 [==========>...................] - ETA: 3:10 - loss: 0.2115 - acc: 0.9257"
          ],
          "name": "stdout"
        },
        {
          "output_type": "stream",
          "text": [
            "50000/50000 [==============================] - 330s 7ms/step - loss: 0.2158 - acc: 0.9238 - val_loss: 0.8709 - val_acc: 0.7938\n",
            "\n",
            "Epoch 00022: val_acc did not improve from 0.82780\n",
            "Epoch 23/50\n",
            "50000/50000 [==============================] - 330s 7ms/step - loss: 0.2029 - acc: 0.9278 - val_loss: 0.6851 - val_acc: 0.8296\n",
            "\n",
            "Epoch 00023: val_acc improved from 0.82780 to 0.82960, saving model to weights.best.hdf5\n",
            "Epoch 24/50\n",
            "17408/50000 [=========>....................] - ETA: 3:18 - loss: 0.1845 - acc: 0.9342"
          ],
          "name": "stdout"
        },
        {
          "output_type": "stream",
          "text": [
            "50000/50000 [==============================] - 330s 7ms/step - loss: 0.1947 - acc: 0.9300 - val_loss: 0.9452 - val_acc: 0.7733\n",
            "\n",
            "Epoch 00024: val_acc did not improve from 0.82960\n",
            "Epoch 25/50\n",
            "50000/50000 [==============================] - 329s 7ms/step - loss: 0.1887 - acc: 0.9331 - val_loss: 0.6950 - val_acc: 0.8334\n",
            "\n",
            "Epoch 00025: val_acc improved from 0.82960 to 0.83340, saving model to weights.best.hdf5\n",
            "Epoch 26/50\n",
            "17152/50000 [=========>....................] - ETA: 3:20 - loss: 0.1713 - acc: 0.9364"
          ],
          "name": "stdout"
        },
        {
          "output_type": "stream",
          "text": [
            "50000/50000 [==============================] - 329s 7ms/step - loss: 0.1786 - acc: 0.9350 - val_loss: 0.7321 - val_acc: 0.8330\n",
            "\n",
            "Epoch 00026: val_acc did not improve from 0.83340\n",
            "Epoch 27/50\n",
            "50000/50000 [==============================] - 330s 7ms/step - loss: 0.1726 - acc: 0.9379 - val_loss: 0.8600 - val_acc: 0.8033\n",
            "\n",
            "Epoch 00027: val_acc did not improve from 0.83340\n",
            "Epoch 28/50\n",
            "18944/50000 [==========>...................] - ETA: 3:09 - loss: 0.1593 - acc: 0.9440"
          ],
          "name": "stdout"
        },
        {
          "output_type": "stream",
          "text": [
            "50000/50000 [==============================] - 329s 7ms/step - loss: 0.1646 - acc: 0.9408 - val_loss: 0.7884 - val_acc: 0.8203\n",
            "\n",
            "Epoch 00028: val_acc did not improve from 0.83340\n",
            "Epoch 29/50\n",
            "50000/50000 [==============================] - 329s 7ms/step - loss: 0.1570 - acc: 0.9433 - val_loss: 0.8435 - val_acc: 0.8171\n",
            "\n",
            "Epoch 00029: val_acc did not improve from 0.83340\n",
            "Epoch 30/50\n",
            "19200/50000 [==========>...................] - ETA: 3:07 - loss: 0.1359 - acc: 0.9510"
          ],
          "name": "stdout"
        },
        {
          "output_type": "stream",
          "text": [
            "50000/50000 [==============================] - 330s 7ms/step - loss: 0.1501 - acc: 0.9461 - val_loss: 0.8479 - val_acc: 0.8235\n",
            "\n",
            "Epoch 00030: val_acc did not improve from 0.83340\n",
            "Epoch 31/50\n",
            "50000/50000 [==============================] - 329s 7ms/step - loss: 0.1460 - acc: 0.9483 - val_loss: 0.6708 - val_acc: 0.8423\n",
            "\n",
            "Epoch 00031: val_acc improved from 0.83340 to 0.84230, saving model to weights.best.hdf5\n",
            "Epoch 32/50\n",
            "17408/50000 [=========>....................] - ETA: 3:18 - loss: 0.1275 - acc: 0.9540"
          ],
          "name": "stdout"
        },
        {
          "output_type": "stream",
          "text": [
            "50000/50000 [==============================] - 329s 7ms/step - loss: 0.1399 - acc: 0.9493 - val_loss: 0.9936 - val_acc: 0.7978\n",
            "\n",
            "Epoch 00032: val_acc did not improve from 0.84230\n",
            "Epoch 33/50\n",
            "50000/50000 [==============================] - 329s 7ms/step - loss: 0.1370 - acc: 0.9511 - val_loss: 1.1971 - val_acc: 0.7707\n",
            "\n",
            "Epoch 00033: val_acc did not improve from 0.84230\n",
            "Epoch 34/50\n",
            "18944/50000 [==========>...................] - ETA: 3:08 - loss: 0.1251 - acc: 0.9561"
          ],
          "name": "stdout"
        },
        {
          "output_type": "stream",
          "text": [
            "50000/50000 [==============================] - 329s 7ms/step - loss: 0.1280 - acc: 0.9550 - val_loss: 0.8647 - val_acc: 0.8257\n",
            "\n",
            "Epoch 00034: val_acc did not improve from 0.84230\n",
            "Epoch 35/50\n",
            "50000/50000 [==============================] - 328s 7ms/step - loss: 0.1232 - acc: 0.9553 - val_loss: 0.6082 - val_acc: 0.8582\n",
            "\n",
            "Epoch 00035: val_acc improved from 0.84230 to 0.85820, saving model to weights.best.hdf5\n",
            "Epoch 36/50\n",
            "17408/50000 [=========>....................] - ETA: 3:18 - loss: 0.1195 - acc: 0.9548"
          ],
          "name": "stdout"
        },
        {
          "output_type": "stream",
          "text": [
            "50000/50000 [==============================] - 329s 7ms/step - loss: 0.1193 - acc: 0.9567 - val_loss: 0.7020 - val_acc: 0.8447\n",
            "\n",
            "Epoch 00036: val_acc did not improve from 0.85820\n",
            "Epoch 37/50\n",
            "50000/50000 [==============================] - 327s 7ms/step - loss: 0.1145 - acc: 0.9588 - val_loss: 0.6984 - val_acc: 0.8499\n",
            "\n",
            "Epoch 00037: val_acc did not improve from 0.85820\n",
            "Epoch 38/50\n",
            "18944/50000 [==========>...................] - ETA: 3:07 - loss: 0.1042 - acc: 0.9619"
          ],
          "name": "stdout"
        },
        {
          "output_type": "stream",
          "text": [
            "50000/50000 [==============================] - 327s 7ms/step - loss: 0.1086 - acc: 0.9610 - val_loss: 0.8030 - val_acc: 0.8364\n",
            "\n",
            "Epoch 00038: val_acc did not improve from 0.85820\n",
            "Epoch 39/50\n",
            "50000/50000 [==============================] - 328s 7ms/step - loss: 0.1067 - acc: 0.9617 - val_loss: 1.0138 - val_acc: 0.8071\n",
            "\n",
            "Epoch 00039: val_acc did not improve from 0.85820\n",
            "Epoch 40/50\n",
            "19200/50000 [==========>...................] - ETA: 3:06 - loss: 0.1039 - acc: 0.9633"
          ],
          "name": "stdout"
        },
        {
          "output_type": "stream",
          "text": [
            "50000/50000 [==============================] - 328s 7ms/step - loss: 0.1077 - acc: 0.9609 - val_loss: 1.3635 - val_acc: 0.7549\n",
            "\n",
            "Epoch 00040: val_acc did not improve from 0.85820\n",
            "Epoch 41/50\n",
            "50000/50000 [==============================] - 330s 7ms/step - loss: 0.1052 - acc: 0.9627 - val_loss: 0.6289 - val_acc: 0.8600\n",
            "\n",
            "Epoch 00041: val_acc improved from 0.85820 to 0.86000, saving model to weights.best.hdf5\n",
            "Epoch 42/50\n",
            "17408/50000 [=========>....................] - ETA: 3:19 - loss: 0.0852 - acc: 0.9677"
          ],
          "name": "stdout"
        },
        {
          "output_type": "stream",
          "text": [
            "50000/50000 [==============================] - 330s 7ms/step - loss: 0.0969 - acc: 0.9642 - val_loss: 1.0558 - val_acc: 0.8163\n",
            "\n",
            "Epoch 00042: val_acc did not improve from 0.86000\n",
            "Epoch 43/50\n",
            "50000/50000 [==============================] - 329s 7ms/step - loss: 0.0919 - acc: 0.9670 - val_loss: 0.6695 - val_acc: 0.8582\n",
            "\n",
            "Epoch 00043: val_acc did not improve from 0.86000\n",
            "Epoch 44/50\n",
            "18944/50000 [==========>...................] - ETA: 3:09 - loss: 0.0906 - acc: 0.9681"
          ],
          "name": "stdout"
        },
        {
          "output_type": "stream",
          "text": [
            "50000/50000 [==============================] - 330s 7ms/step - loss: 0.0982 - acc: 0.9645 - val_loss: 0.6196 - val_acc: 0.8725\n",
            "\n",
            "Epoch 00044: val_acc improved from 0.86000 to 0.87250, saving model to weights.best.hdf5\n",
            "Epoch 45/50\n",
            "50000/50000 [==============================] - 330s 7ms/step - loss: 0.0855 - acc: 0.9683 - val_loss: 0.6981 - val_acc: 0.8623\n",
            "\n",
            "Epoch 00045: val_acc did not improve from 0.87250\n",
            "Epoch 46/50\n",
            "13568/50000 [=======>......................] - ETA: 3:42 - loss: 0.0844 - acc: 0.9713"
          ],
          "name": "stdout"
        },
        {
          "output_type": "stream",
          "text": [
            "50000/50000 [==============================] - 330s 7ms/step - loss: 0.0881 - acc: 0.9689 - val_loss: 0.9814 - val_acc: 0.8112\n",
            "\n",
            "Epoch 00046: val_acc did not improve from 0.87250\n",
            "Epoch 47/50\n",
            "50000/50000 [==============================] - 329s 7ms/step - loss: 0.0906 - acc: 0.9674 - val_loss: 0.6442 - val_acc: 0.8620\n",
            "\n",
            "Epoch 00047: val_acc did not improve from 0.87250\n",
            "Epoch 48/50\n",
            "18176/50000 [=========>....................] - ETA: 3:13 - loss: 0.0735 - acc: 0.9733"
          ],
          "name": "stdout"
        },
        {
          "output_type": "stream",
          "text": [
            "50000/50000 [==============================] - 329s 7ms/step - loss: 0.0821 - acc: 0.9705 - val_loss: 0.9226 - val_acc: 0.8419\n",
            "\n",
            "Epoch 00048: val_acc did not improve from 0.87250\n",
            "Epoch 49/50\n",
            "50000/50000 [==============================] - 331s 7ms/step - loss: 0.0799 - acc: 0.9713 - val_loss: 0.9739 - val_acc: 0.8238\n",
            "\n",
            "Epoch 00049: val_acc did not improve from 0.87250\n",
            "Epoch 50/50\n",
            "18944/50000 [==========>...................] - ETA: 3:09 - loss: 0.0754 - acc: 0.9740"
          ],
          "name": "stdout"
        },
        {
          "output_type": "stream",
          "text": [
            "50000/50000 [==============================] - 330s 7ms/step - loss: 0.0741 - acc: 0.9742 - val_loss: 0.7733 - val_acc: 0.8559\n",
            "\n",
            "Epoch 00050: val_acc did not improve from 0.87250\n"
          ],
          "name": "stdout"
        },
        {
          "output_type": "execute_result",
          "data": {
            "text/plain": [
              "<keras.callbacks.History at 0x7f6847064860>"
            ]
          },
          "metadata": {
            "tags": []
          },
          "execution_count": 27
        }
      ]
    },
    {
      "metadata": {
        "id": "GIDxdPsQNBi1",
        "colab_type": "code",
        "colab": {
          "autoexec": {
            "startup": false,
            "wait_interval": 0
          }
        }
      },
      "cell_type": "code",
      "source": [
        "# load weights\n",
        "model.load_weights(\"weights.best.hdf5\")\n",
        "\n"
      ],
      "execution_count": 0,
      "outputs": []
    },
    {
      "metadata": {
        "id": "5f5Nvl06lEk8",
        "colab_type": "code",
        "colab": {
          "autoexec": {
            "startup": false,
            "wait_interval": 0
          },
          "base_uri": "https://localhost:8080/",
          "height": 67
        },
        "outputId": "a3211065-4906-49d9-9088-7b052bcd534f",
        "executionInfo": {
          "status": "ok",
          "timestamp": 1526484766978,
          "user_tz": -330,
          "elapsed": 33656,
          "user": {
            "displayName": "Lone Pack",
            "photoUrl": "https://lh3.googleusercontent.com/a/default-user=s128",
            "userId": "104686426490138401568"
          }
        }
      },
      "cell_type": "code",
      "source": [
        "# Test the model\n",
        "score = model.evaluate(x_test, y_test, verbose=1)\n",
        "print('Test loss:', score[0])\n",
        "print('Test accuracy:', score[1])"
      ],
      "execution_count": 29,
      "outputs": [
        {
          "output_type": "stream",
          "text": [
            "10000/10000 [==============================] - 33s 3ms/step\n",
            "Test loss: 0.619635308033228\n",
            "Test accuracy: 0.8725\n"
          ],
          "name": "stdout"
        }
      ]
    },
    {
      "metadata": {
        "id": "rm6Drp8MtdVA",
        "colab_type": "code",
        "colab": {
          "autoexec": {
            "startup": false,
            "wait_interval": 0
          },
          "base_uri": "https://localhost:8080/",
          "height": 34
        },
        "outputId": "407b1bd3-0b02-4219-dd78-919c9bfc91b5",
        "executionInfo": {
          "status": "ok",
          "timestamp": 1526484870813,
          "user_tz": -330,
          "elapsed": 2304,
          "user": {
            "displayName": "Lone Pack",
            "photoUrl": "https://lh3.googleusercontent.com/a/default-user=s128",
            "userId": "104686426490138401568"
          }
        }
      },
      "cell_type": "code",
      "source": [
        "# Save the trained weights in to .h5 format\n",
        "model.save_weights(\"DNST_model.h5\")\n",
        "print(\"Saved model to disk\")"
      ],
      "execution_count": 30,
      "outputs": [
        {
          "output_type": "stream",
          "text": [
            "Saved model to disk\n"
          ],
          "name": "stdout"
        }
      ]
    },
    {
      "metadata": {
        "id": "MUovnyN7tXrh",
        "colab_type": "code",
        "colab": {
          "autoexec": {
            "startup": false,
            "wait_interval": 0
          }
        }
      },
      "cell_type": "code",
      "source": [
        "from google.colab import files\n",
        "\n",
        "files.download('DNST_model.h5')"
      ],
      "execution_count": 0,
      "outputs": []
    }
  ]
}
