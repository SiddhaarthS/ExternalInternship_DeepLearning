{
  "nbformat": 4,
  "nbformat_minor": 0,
  "metadata": {
    "colab": {
      "name": "SIDDHAARTH_BATCH_1_ASSIGNMENT_4A.ipynb",
      "version": "0.3.2",
      "views": {},
      "default_view": {},
      "provenance": []
    },
    "kernelspec": {
      "name": "python3",
      "display_name": "Python 3"
    },
    "accelerator": "GPU"
  },
  "cells": [
    {
      "metadata": {
        "id": "vH3LROPoroAj",
        "colab_type": "code",
        "colab": {
          "autoexec": {
            "startup": false,
            "wait_interval": 0
          }
        }
      },
      "cell_type": "code",
      "source": [
        "# https://keras.io/\n",
        "!pip install -q keras\n",
        "import keras"
      ],
      "execution_count": 0,
      "outputs": []
    },
    {
      "metadata": {
        "id": "sAZ4D_bpr9jR",
        "colab_type": "code",
        "colab": {
          "autoexec": {
            "startup": false,
            "wait_interval": 0
          }
        }
      },
      "cell_type": "code",
      "source": [
        "import numpy as np\n",
        "\n",
        "from keras.models import Sequential\n",
        "from keras.layers import Dense, Dropout, Activation, Flatten, Add\n",
        "from keras.layers import Convolution2D, MaxPooling2D\n",
        "from keras.utils import np_utils\n",
        "\n",
        "from keras.datasets import mnist"
      ],
      "execution_count": 0,
      "outputs": []
    },
    {
      "metadata": {
        "id": "FlhR5ZFBxAXz",
        "colab_type": "text"
      },
      "cell_type": "markdown",
      "source": [
        "**Load pre-shuffled MNIST data into train and test sets** Note that MNIST is a database of handwritten digits with 28 x 28 pixels"
      ]
    },
    {
      "metadata": {
        "id": "Ox93Efx4xBzh",
        "colab_type": "code",
        "colab": {
          "autoexec": {
            "startup": false,
            "wait_interval": 0
          },
          "base_uri": "https://localhost:8080/",
          "height": 51
        },
        "outputId": "ec741505-ed8a-45d6-b860-6d866d5fa440",
        "executionInfo": {
          "status": "ok",
          "timestamp": 1525410809651,
          "user_tz": -330,
          "elapsed": 1989,
          "user": {
            "displayName": "Siddhaarth Sudhakaran",
            "photoUrl": "//lh4.googleusercontent.com/-Rst6J38gN2w/AAAAAAAAAAI/AAAAAAAAAGk/zANt2gA_WYY/s50-c-k-no/photo.jpg",
            "userId": "111571987603321829596"
          }
        }
      },
      "cell_type": "code",
      "source": [
        "(X_train, y_train), (X_test, y_test) = mnist.load_data()"
      ],
      "execution_count": 4,
      "outputs": [
        {
          "output_type": "stream",
          "text": [
            "Downloading data from https://s3.amazonaws.com/img-datasets/mnist.npz\n",
            "11493376/11490434 [==============================] - 1s 0us/step\n"
          ],
          "name": "stdout"
        }
      ]
    },
    {
      "metadata": {
        "id": "EOStHQEMyif8",
        "colab_type": "code",
        "colab": {
          "autoexec": {
            "startup": false,
            "wait_interval": 0
          },
          "base_uri": "https://localhost:8080/",
          "height": 299
        },
        "outputId": "c001051a-6066-4830-b4f1-ea2cfb6d8c5e",
        "executionInfo": {
          "status": "ok",
          "timestamp": 1525410811192,
          "user_tz": -330,
          "elapsed": 912,
          "user": {
            "displayName": "Siddhaarth Sudhakaran",
            "photoUrl": "//lh4.googleusercontent.com/-Rst6J38gN2w/AAAAAAAAAAI/AAAAAAAAAGk/zANt2gA_WYY/s50-c-k-no/photo.jpg",
            "userId": "111571987603321829596"
          }
        }
      },
      "cell_type": "code",
      "source": [
        "print (X_train.shape)\n",
        "from matplotlib import pyplot as plt\n",
        "%matplotlib inline\n",
        "plt.imshow(X_train[0])"
      ],
      "execution_count": 5,
      "outputs": [
        {
          "output_type": "stream",
          "text": [
            "(60000, 28, 28)\n"
          ],
          "name": "stdout"
        },
        {
          "output_type": "execute_result",
          "data": {
            "text/plain": [
              "<matplotlib.image.AxesImage at 0x7fae6e310940>"
            ]
          },
          "metadata": {
            "tags": []
          },
          "execution_count": 5
        },
        {
          "output_type": "display_data",
          "data": {
            "image/png": "[encoded data removed]",
            "text/plain": [
              "<matplotlib.figure.Figure at 0x7fae6ee58390>"
            ]
          },
          "metadata": {
            "tags": []
          }
        }
      ]
    },
    {
      "metadata": {
        "id": "GmndR0Jhz9Y7",
        "colab_type": "text"
      },
      "cell_type": "markdown",
      "source": [
        "Here we are reshaping the x_train and x_test arrays from (num_samples,28,28) to (num_samples,28,28,1) "
      ]
    },
    {
      "metadata": {
        "id": "GSUfrLTDy9yU",
        "colab_type": "code",
        "colab": {
          "autoexec": {
            "startup": false,
            "wait_interval": 0
          }
        }
      },
      "cell_type": "code",
      "source": [
        "X_train = X_train.reshape(X_train.shape[0], 28, 28,1)\n",
        "X_test = X_test.reshape(X_test.shape[0], 28, 28,1)"
      ],
      "execution_count": 0,
      "outputs": []
    },
    {
      "metadata": {
        "id": "PfP4SzkH0aj0",
        "colab_type": "text"
      },
      "cell_type": "markdown",
      "source": [
        "Now we take a copy of the array, cast it to a float data type.Then we divide every number in the array by 255 to bring its values between 0 and 1. This is a form of regularization"
      ]
    },
    {
      "metadata": {
        "id": "JIwkAQX60tPb",
        "colab_type": "code",
        "colab": {
          "autoexec": {
            "startup": false,
            "wait_interval": 0
          }
        }
      },
      "cell_type": "code",
      "source": [
        "X_train = X_train.astype('float32')\n",
        "X_test = X_test.astype('float32')\n",
        "X_train /= 255\n",
        "X_test /= 255"
      ],
      "execution_count": 0,
      "outputs": []
    },
    {
      "metadata": {
        "id": "N9WVIXM502EN",
        "colab_type": "code",
        "colab": {
          "autoexec": {
            "startup": false,
            "wait_interval": 0
          },
          "base_uri": "https://localhost:8080/",
          "height": 34
        },
        "outputId": "463c3404-a102-4a32-a754-9309d4bd0ede",
        "executionInfo": {
          "status": "ok",
          "timestamp": 1525410817794,
          "user_tz": -330,
          "elapsed": 924,
          "user": {
            "displayName": "Siddhaarth Sudhakaran",
            "photoUrl": "//lh4.googleusercontent.com/-Rst6J38gN2w/AAAAAAAAAAI/AAAAAAAAAGk/zANt2gA_WYY/s50-c-k-no/photo.jpg",
            "userId": "111571987603321829596"
          }
        }
      },
      "cell_type": "code",
      "source": [
        "y_train[:10]"
      ],
      "execution_count": 8,
      "outputs": [
        {
          "output_type": "execute_result",
          "data": {
            "text/plain": [
              "array([5, 0, 4, 1, 9, 2, 1, 3, 1, 4], dtype=uint8)"
            ]
          },
          "metadata": {
            "tags": []
          },
          "execution_count": 8
        }
      ]
    },
    {
      "metadata": {
        "id": "l-GQakcn1fj8",
        "colab_type": "code",
        "colab": {
          "autoexec": {
            "startup": false,
            "wait_interval": 0
          }
        }
      },
      "cell_type": "code",
      "source": [
        "# Convert 1-dimensional class arrays to 10-dimensional class matrices\n",
        "Y_train = np_utils.to_categorical(y_train, 10)\n",
        "Y_test = np_utils.to_categorical(y_test, 10)"
      ],
      "execution_count": 0,
      "outputs": []
    },
    {
      "metadata": {
        "id": "4WUi57dJ2QnF",
        "colab_type": "code",
        "colab": {
          "autoexec": {
            "startup": false,
            "wait_interval": 0
          },
          "base_uri": "https://localhost:8080/",
          "height": 185
        },
        "outputId": "f98379ea-36dc-44ab-fc24-56c63608f06d",
        "executionInfo": {
          "status": "ok",
          "timestamp": 1525410821077,
          "user_tz": -330,
          "elapsed": 1030,
          "user": {
            "displayName": "Siddhaarth Sudhakaran",
            "photoUrl": "//lh4.googleusercontent.com/-Rst6J38gN2w/AAAAAAAAAAI/AAAAAAAAAGk/zANt2gA_WYY/s50-c-k-no/photo.jpg",
            "userId": "111571987603321829596"
          }
        }
      },
      "cell_type": "code",
      "source": [
        "Y_train[:10]"
      ],
      "execution_count": 10,
      "outputs": [
        {
          "output_type": "execute_result",
          "data": {
            "text/plain": [
              "array([[0., 0., 0., 0., 0., 1., 0., 0., 0., 0.],\n",
              "       [1., 0., 0., 0., 0., 0., 0., 0., 0., 0.],\n",
              "       [0., 0., 0., 0., 1., 0., 0., 0., 0., 0.],\n",
              "       [0., 1., 0., 0., 0., 0., 0., 0., 0., 0.],\n",
              "       [0., 0., 0., 0., 0., 0., 0., 0., 0., 1.],\n",
              "       [0., 0., 1., 0., 0., 0., 0., 0., 0., 0.],\n",
              "       [0., 1., 0., 0., 0., 0., 0., 0., 0., 0.],\n",
              "       [0., 0., 0., 1., 0., 0., 0., 0., 0., 0.],\n",
              "       [0., 1., 0., 0., 0., 0., 0., 0., 0., 0.],\n",
              "       [0., 0., 0., 0., 1., 0., 0., 0., 0., 0.]], dtype=float32)"
            ]
          },
          "metadata": {
            "tags": []
          },
          "execution_count": 10
        }
      ]
    },
    {
      "metadata": {
        "id": "LK9Ju0kl2m1-",
        "colab_type": "code",
        "colab": {
          "autoexec": {
            "startup": false,
            "wait_interval": 0
          },
          "base_uri": "https://localhost:8080/",
          "height": 71
        },
        "outputId": "cb7406de-9502-4e72-e20c-404f7e0334e3",
        "executionInfo": {
          "status": "ok",
          "timestamp": 1525410837231,
          "user_tz": -330,
          "elapsed": 922,
          "user": {
            "displayName": "Siddhaarth Sudhakaran",
            "photoUrl": "//lh4.googleusercontent.com/-Rst6J38gN2w/AAAAAAAAAAI/AAAAAAAAAGk/zANt2gA_WYY/s50-c-k-no/photo.jpg",
            "userId": "111571987603321829596"
          }
        }
      },
      "cell_type": "code",
      "source": [
        "from keras.layers import Activation\n",
        "model = Sequential()\n",
        "\n",
        " \n",
        "model.add(Convolution2D(32, 7, 7, activation='relu', input_shape=(28,28,1)))\n",
        "model.add(Convolution2D(10, 1, activation='relu'))\n",
        "model.add(Convolution2D(10, 22))\n",
        "model.add(Flatten())\n",
        "model.add(Activation('softmax'))"
      ],
      "execution_count": 12,
      "outputs": [
        {
          "output_type": "stream",
          "text": [
            "/usr/local/lib/python3.6/dist-packages/ipykernel_launcher.py:5: UserWarning: Update your `Conv2D` call to the Keras 2 API: `Conv2D(32, (7, 7), activation=\"relu\", input_shape=(28, 28, 1...)`\n",
            "  \"\"\"\n"
          ],
          "name": "stderr"
        }
      ]
    },
    {
      "metadata": {
        "id": "gkm1JA_Gclcm",
        "colab_type": "code",
        "colab": {
          "autoexec": {
            "startup": false,
            "wait_interval": 0
          },
          "base_uri": "https://localhost:8080/",
          "height": 303
        },
        "outputId": "2b6c7a01-40a4-4350-e813-b6b571563577",
        "executionInfo": {
          "status": "ok",
          "timestamp": 1525410850528,
          "user_tz": -330,
          "elapsed": 879,
          "user": {
            "displayName": "Siddhaarth Sudhakaran",
            "photoUrl": "//lh4.googleusercontent.com/-Rst6J38gN2w/AAAAAAAAAAI/AAAAAAAAAGk/zANt2gA_WYY/s50-c-k-no/photo.jpg",
            "userId": "111571987603321829596"
          }
        }
      },
      "cell_type": "code",
      "source": [
        "model.summary()"
      ],
      "execution_count": 13,
      "outputs": [
        {
          "output_type": "stream",
          "text": [
            "_________________________________________________________________\n",
            "Layer (type)                 Output Shape              Param #   \n",
            "=================================================================\n",
            "conv2d_4 (Conv2D)            (None, 22, 22, 32)        1600      \n",
            "_________________________________________________________________\n",
            "conv2d_5 (Conv2D)            (None, 22, 22, 10)        330       \n",
            "_________________________________________________________________\n",
            "conv2d_6 (Conv2D)            (None, 1, 1, 10)          48410     \n",
            "_________________________________________________________________\n",
            "flatten_1 (Flatten)          (None, 10)                0         \n",
            "_________________________________________________________________\n",
            "activation_1 (Activation)    (None, 10)                0         \n",
            "=================================================================\n",
            "Total params: 50,340\n",
            "Trainable params: 50,340\n",
            "Non-trainable params: 0\n",
            "_________________________________________________________________\n"
          ],
          "name": "stdout"
        }
      ]
    },
    {
      "metadata": {
        "id": "lIqKNscNc8MW",
        "colab_type": "code",
        "colab": {
          "autoexec": {
            "startup": false,
            "wait_interval": 0
          }
        }
      },
      "cell_type": "code",
      "source": [
        "model.compile(loss='categorical_crossentropy',\n",
        "             optimizer='adam',\n",
        "             metrics=['accuracy'])"
      ],
      "execution_count": 0,
      "outputs": []
    },
    {
      "metadata": {
        "id": "MehRQlBadZd8",
        "colab_type": "code",
        "colab": {
          "autoexec": {
            "startup": false,
            "wait_interval": 0
          },
          "base_uri": "https://localhost:8080/",
          "height": 403
        },
        "outputId": "8bbe670d-5bc0-4325-8726-9f3aeee72ea9",
        "executionInfo": {
          "status": "ok",
          "timestamp": 1525411026038,
          "user_tz": -330,
          "elapsed": 166722,
          "user": {
            "displayName": "Siddhaarth Sudhakaran",
            "photoUrl": "//lh4.googleusercontent.com/-Rst6J38gN2w/AAAAAAAAAAI/AAAAAAAAAGk/zANt2gA_WYY/s50-c-k-no/photo.jpg",
            "userId": "111571987603321829596"
          }
        }
      },
      "cell_type": "code",
      "source": [
        "model.fit(X_train, Y_train, batch_size=32, nb_epoch=10, verbose=1)"
      ],
      "execution_count": 15,
      "outputs": [
        {
          "output_type": "stream",
          "text": [
            "/usr/local/lib/python3.6/dist-packages/keras/models.py:981: UserWarning: The `nb_epoch` argument in `fit` has been renamed `epochs`.\n",
            "  warnings.warn('The `nb_epoch` argument in `fit` '\n"
          ],
          "name": "stderr"
        },
        {
          "output_type": "stream",
          "text": [
            "Epoch 1/10\n",
            "60000/60000 [==============================] - 18s 303us/step - loss: 0.1510 - acc: 0.9554\n",
            "Epoch 2/10\n",
            "60000/60000 [==============================] - 16s 274us/step - loss: 0.0588 - acc: 0.9816\n",
            "Epoch 3/10\n",
            " 5920/60000 [=>............................] - ETA: 14s - loss: 0.0376 - acc: 0.9882"
          ],
          "name": "stdout"
        },
        {
          "output_type": "stream",
          "text": [
            "60000/60000 [==============================] - 16s 273us/step - loss: 0.0422 - acc: 0.9868\n",
            "Epoch 4/10\n",
            "60000/60000 [==============================] - 16s 272us/step - loss: 0.0327 - acc: 0.9896\n",
            "Epoch 5/10\n",
            "13408/60000 [=====>........................] - ETA: 12s - loss: 0.0187 - acc: 0.9941"
          ],
          "name": "stdout"
        },
        {
          "output_type": "stream",
          "text": [
            "60000/60000 [==============================] - 16s 271us/step - loss: 0.0250 - acc: 0.9921\n",
            "Epoch 6/10\n",
            "60000/60000 [==============================] - 16s 275us/step - loss: 0.0200 - acc: 0.9934\n",
            "Epoch 7/10\n",
            "14976/60000 [======>.......................] - ETA: 12s - loss: 0.0156 - acc: 0.9955"
          ],
          "name": "stdout"
        },
        {
          "output_type": "stream",
          "text": [
            "60000/60000 [==============================] - 16s 273us/step - loss: 0.0163 - acc: 0.9947\n",
            "Epoch 8/10\n",
            "60000/60000 [==============================] - 16s 274us/step - loss: 0.0128 - acc: 0.9958\n",
            "Epoch 9/10\n",
            "15712/60000 [======>.......................] - ETA: 11s - loss: 0.0100 - acc: 0.9969"
          ],
          "name": "stdout"
        },
        {
          "output_type": "stream",
          "text": [
            "60000/60000 [==============================] - 16s 272us/step - loss: 0.0102 - acc: 0.9965\n",
            "Epoch 10/10\n",
            "60000/60000 [==============================] - 16s 273us/step - loss: 0.0096 - acc: 0.9966\n"
          ],
          "name": "stdout"
        },
        {
          "output_type": "execute_result",
          "data": {
            "text/plain": [
              "<keras.callbacks.History at 0x7fae6c05f1d0>"
            ]
          },
          "metadata": {
            "tags": []
          },
          "execution_count": 15
        }
      ]
    },
    {
      "metadata": {
        "id": "AReFjKe1g-zH",
        "colab_type": "code",
        "colab": {
          "autoexec": {
            "startup": false,
            "wait_interval": 0
          }
        }
      },
      "cell_type": "code",
      "source": [
        "score = model.evaluate(X_test, Y_test, verbose=0)"
      ],
      "execution_count": 0,
      "outputs": []
    },
    {
      "metadata": {
        "id": "tFnvH-xnhDSe",
        "colab_type": "code",
        "colab": {
          "autoexec": {
            "startup": false,
            "wait_interval": 0
          },
          "base_uri": "https://localhost:8080/",
          "height": 34
        },
        "outputId": "4febedab-c72a-4cac-a1ca-1389f28ef4ce",
        "executionInfo": {
          "status": "ok",
          "timestamp": 1525411035115,
          "user_tz": -330,
          "elapsed": 867,
          "user": {
            "displayName": "Siddhaarth Sudhakaran",
            "photoUrl": "//lh4.googleusercontent.com/-Rst6J38gN2w/AAAAAAAAAAI/AAAAAAAAAGk/zANt2gA_WYY/s50-c-k-no/photo.jpg",
            "userId": "111571987603321829596"
          }
        }
      },
      "cell_type": "code",
      "source": [
        "print(score)"
      ],
      "execution_count": 17,
      "outputs": [
        {
          "output_type": "stream",
          "text": [
            "[0.054080061103495565, 0.9857]\n"
          ],
          "name": "stdout"
        }
      ]
    },
    {
      "metadata": {
        "id": "IijU0fi5hF-2",
        "colab_type": "code",
        "colab": {
          "autoexec": {
            "startup": false,
            "wait_interval": 0
          }
        }
      },
      "cell_type": "code",
      "source": [
        "y_pred = model.predict(X_test)"
      ],
      "execution_count": 0,
      "outputs": []
    },
    {
      "metadata": {
        "id": "CizkObSihJJu",
        "colab_type": "code",
        "colab": {
          "autoexec": {
            "startup": false,
            "wait_interval": 0
          },
          "base_uri": "https://localhost:8080/",
          "height": 336
        },
        "outputId": "17295fba-a41e-498a-d896-cc19bbae2c5e",
        "executionInfo": {
          "status": "ok",
          "timestamp": 1525411046005,
          "user_tz": -330,
          "elapsed": 868,
          "user": {
            "displayName": "Siddhaarth Sudhakaran",
            "photoUrl": "//lh4.googleusercontent.com/-Rst6J38gN2w/AAAAAAAAAAI/AAAAAAAAAGk/zANt2gA_WYY/s50-c-k-no/photo.jpg",
            "userId": "111571987603321829596"
          }
        }
      },
      "cell_type": "code",
      "source": [
        "print(y_pred[:9])\n",
        "print(y_test[:9])"
      ],
      "execution_count": 19,
      "outputs": [
        {
          "output_type": "stream",
          "text": [
            "[[9.7764935e-20 9.7410443e-22 1.7463235e-10 9.4901750e-08 1.5670107e-21\n",
            "  3.1169216e-20 5.1804953e-31 9.9999988e-01 1.6375451e-15 2.7710045e-09]\n",
            " [2.9121985e-12 1.2169130e-12 1.0000000e+00 2.0051152e-15 9.7431903e-24\n",
            "  3.3571338e-20 5.2869943e-13 3.5752245e-24 9.7581231e-13 1.0833560e-21]\n",
            " [1.0491452e-09 9.9999905e-01 3.2004797e-07 2.8556985e-13 1.8484134e-07\n",
            "  5.7486598e-12 1.0861826e-11 1.7212093e-07 2.8412225e-07 2.7511455e-11]\n",
            " [1.0000000e+00 8.2720743e-21 3.9336211e-11 1.6740368e-11 1.7655636e-15\n",
            "  1.3305060e-10 3.7599740e-10 1.5316068e-11 2.8879676e-14 2.5484008e-09]\n",
            " [2.0234171e-16 3.2240351e-18 1.5525088e-16 2.7538096e-15 1.0000000e+00\n",
            "  1.1252687e-17 8.7381309e-18 2.6074062e-13 2.2054421e-11 9.8726600e-09]\n",
            " [3.7746747e-11 9.9999654e-01 2.0112123e-09 4.3775763e-13 2.2097538e-08\n",
            "  2.8955498e-16 7.1768178e-15 3.2931237e-06 1.1135702e-07 8.7531614e-11]\n",
            " [1.7518747e-18 5.3048854e-12 1.2555330e-07 5.8230384e-14 9.9948126e-01\n",
            "  8.7799906e-12 3.0494417e-17 7.8272555e-10 5.1858707e-04 5.8001543e-08]\n",
            " [2.2733833e-24 9.6356284e-17 7.4347190e-15 7.9046381e-11 2.4601104e-10\n",
            "  5.5434761e-11 1.2435583e-20 3.6405167e-15 5.9255818e-09 1.0000000e+00]\n",
            " [3.1679479e-12 2.5752463e-21 3.3209461e-18 1.4928107e-14 2.7910736e-16\n",
            "  9.9998343e-01 1.6542084e-05 4.3885114e-17 1.3809285e-08 6.4361043e-12]]\n",
            "[7 2 1 0 4 1 4 9 5]\n"
          ],
          "name": "stdout"
        }
      ]
    },
    {
      "metadata": {
        "id": "pSU7eskthV7W",
        "colab_type": "code",
        "colab": {
          "autoexec": {
            "startup": false,
            "wait_interval": 0
          }
        }
      },
      "cell_type": "code",
      "source": [
        "layer_dict = dict([(layer.name, layer) for layer in model.layers])"
      ],
      "execution_count": 0,
      "outputs": []
    },
    {
      "metadata": {
        "id": "ol-gjEwVhbi_",
        "colab_type": "code",
        "colab": {
          "autoexec": {
            "startup": false,
            "wait_interval": 0
          },
          "base_uri": "https://localhost:8080/",
          "height": 839
        },
        "outputId": "14d2400e-082e-4357-a7cb-49dfd11ea1b9",
        "executionInfo": {
          "status": "ok",
          "timestamp": 1525411179807,
          "user_tz": -330,
          "elapsed": 8020,
          "user": {
            "displayName": "Siddhaarth Sudhakaran",
            "photoUrl": "//lh4.googleusercontent.com/-Rst6J38gN2w/AAAAAAAAAAI/AAAAAAAAAGk/zANt2gA_WYY/s50-c-k-no/photo.jpg",
            "userId": "111571987603321829596"
          }
        }
      },
      "cell_type": "code",
      "source": [
        "import numpy as np\n",
        "from matplotlib import pyplot as plt\n",
        "from keras import backend as K\n",
        "%matplotlib inline\n",
        "# util function to convert a tensor into a valid image\n",
        "def deprocess_image(x):\n",
        "    # normalize tensor: center on 0., ensure std is 0.1\n",
        "    x -= x.mean()\n",
        "    x /= (x.std() + 1e-5)\n",
        "    x *= 0.1\n",
        "\n",
        "    # clip to [0, 1]\n",
        "    x += 0.5\n",
        "    x = np.clip(x, 0, 1)\n",
        "\n",
        "    # convert to RGB array\n",
        "    x *= 255\n",
        "    #x = x.transpose((1, 2, 0))\n",
        "    x = np.clip(x, 0, 255).astype('uint8')\n",
        "    return x\n",
        "\n",
        "def vis_img_in_filter(img = np.array(X_train[2]).reshape((1, 28, 28, 1)).astype(np.float64), \n",
        "                      layer_name = 'conv2d_4'):\n",
        "    layer_output = layer_dict[layer_name].output\n",
        "    img_ascs = list()\n",
        "    for filter_index in range(layer_output.shape[3]):\n",
        "        # build a loss function that maximizes the activation\n",
        "        # of the nth filter of the layer considered\n",
        "        loss = K.mean(layer_output[:, :, :, filter_index])\n",
        "\n",
        "        # compute the gradient of the input picture wrt this loss\n",
        "        grads = K.gradients(loss, model.input)[0]\n",
        "\n",
        "        # normalization trick: we normalize the gradient\n",
        "        grads /= (K.sqrt(K.mean(K.square(grads))) + 1e-5)\n",
        "\n",
        "        # this function returns the loss and grads given the input picture\n",
        "        iterate = K.function([model.input], [loss, grads])\n",
        "\n",
        "        # step size for gradient ascent\n",
        "        step = 5.\n",
        "\n",
        "        img_asc = np.array(img)\n",
        "        # run gradient ascent for 20 steps\n",
        "        for i in range(20):\n",
        "            loss_value, grads_value = iterate([img_asc])\n",
        "            img_asc += grads_value * step\n",
        "\n",
        "        img_asc = img_asc[0]\n",
        "        img_ascs.append(deprocess_image(img_asc).reshape((28, 28)))\n",
        "        \n",
        "    if layer_output.shape[3] >= 35:\n",
        "        plot_x, plot_y = 6, 6\n",
        "    elif layer_output.shape[3] >= 23:\n",
        "        plot_x, plot_y = 4, 6\n",
        "    elif layer_output.shape[3] >= 11:\n",
        "        plot_x, plot_y = 2, 6\n",
        "    else:\n",
        "        plot_x, plot_y = 1, 2\n",
        "    fig, ax = plt.subplots(plot_x, plot_y, figsize = (12, 12))\n",
        "    ax[0, 0].imshow(img.reshape((28, 28)), cmap = 'gray')\n",
        "    ax[0, 0].set_title('Input image')\n",
        "    fig.suptitle('Input image and %s filters' % (layer_name,))\n",
        "    fig.tight_layout(pad = 0.3, rect = [0, 0, 0.9, 0.9])\n",
        "    for (x, y) in [(i, j) for i in range(plot_x) for j in range(plot_y)]:\n",
        "        if x == 0 and y == 0:\n",
        "            continue\n",
        "        ax[x, y].imshow(img_ascs[x * plot_y + y - 1], cmap = 'gray')\n",
        "        ax[x, y].set_title('filter %d' % (x * plot_y + y - 1))\n",
        "\n",
        "vis_img_in_filter()"
      ],
      "execution_count": 23,
      "outputs": [
        {
          "output_type": "display_data",
          "data": {
            "image/png": "[encoded data removed]",
            "text/plain": [
              "<matplotlib.figure.Figure at 0x7fae522a1ba8>"
            ]
          },
          "metadata": {
            "tags": []
          }
        }
      ]
    }
  ]
}