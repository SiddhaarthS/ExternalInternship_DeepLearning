{
  "nbformat": 4,
  "nbformat_minor": 0,
  "metadata": {
    "colab": {
      "name": "SIDDHAARTH_BATCH_1_ASSIGNMENT_4A.ipynb",
      "version": "0.3.2",
      "views": {},
      "default_view": {},
      "provenance": []
    },
    "kernelspec": {
      "name": "python3",
      "display_name": "Python 3"
    },
    "accelerator": "GPU"
  },
  "cells": [
    {
      "metadata": {
        "id": "B2ta-SZAs7a5",
        "colab_type": "code",
        "colab": {
          "autoexec": {
            "startup": false,
            "wait_interval": 0
          }
        }
      },
      "cell_type": "code",
      "source": [
        "# https://keras.io/\n",
        "!pip install -q keras\n",
        "import keras"
      ],
      "execution_count": 0,
      "outputs": []
    },
    {
      "metadata": {
        "id": "R7CGLj3GtGzp",
        "colab_type": "code",
        "colab": {
          "autoexec": {
            "startup": false,
            "wait_interval": 0
          }
        }
      },
      "cell_type": "code",
      "source": [
        "import numpy as np\n",
        "\n",
        "from keras.models import Sequential\n",
        "from keras.layers import Dense, Dropout, Activation, Flatten, Add\n",
        "from keras.layers import Convolution2D, MaxPooling2D\n",
        "from keras.utils import np_utils\n",
        "\n",
        "from keras.datasets import mnist"
      ],
      "execution_count": 0,
      "outputs": []
    },
    {
      "metadata": {
        "id": "nGp4WrPlWt0D",
        "colab_type": "text"
      },
      "cell_type": "markdown",
      "source": [
        "**Load pre-shuffled MNIST data into train and test sets** Note that MNIST is a database of handwritten digits with 28 x 28 pixels"
      ]
    },
    {
      "metadata": {
        "id": "y4Fm35CbtKj_",
        "colab_type": "code",
        "colab": {
          "autoexec": {
            "startup": false,
            "wait_interval": 0
          }
        }
      },
      "cell_type": "code",
      "source": [
        "(X_train, y_train), (X_test, y_test) = mnist.load_data()"
      ],
      "execution_count": 0,
      "outputs": []
    },
    {
      "metadata": {
        "id": "SHX3bxw_tON2",
        "colab_type": "code",
        "colab": {
          "autoexec": {
            "startup": false,
            "wait_interval": 0
          },
          "base_uri": "https://localhost:8080/",
          "height": 299
        },
        "outputId": "ccba0c65-b953-418f-9d85-08e17af826ab",
        "executionInfo": {
          "status": "ok",
          "timestamp": 1525551324061,
          "user_tz": -330,
          "elapsed": 994,
          "user": {
            "displayName": "Siddhaarth Sudhakaran",
            "photoUrl": "//lh4.googleusercontent.com/-Rst6J38gN2w/AAAAAAAAAAI/AAAAAAAAAGk/zANt2gA_WYY/s50-c-k-no/photo.jpg",
            "userId": "111571987603321829596"
          }
        }
      },
      "cell_type": "code",
      "source": [
        "print (X_train.shape)\n",
        "from matplotlib import pyplot as plt\n",
        "%matplotlib inline\n",
        "plt.imshow(X_train[0])"
      ],
      "execution_count": 45,
      "outputs": [
        {
          "output_type": "stream",
          "text": [
            "(60000, 28, 28)\n"
          ],
          "name": "stdout"
        },
        {
          "output_type": "execute_result",
          "data": {
            "text/plain": [
              "<matplotlib.image.AxesImage at 0x7fb30d4f4eb8>"
            ]
          },
          "metadata": {
            "tags": []
          },
          "execution_count": 45
        },
        {
          "output_type": "display_data",
          "data": {
            "image/png": "[encoded data removed]",
            "text/plain": [
              "<matplotlib.figure.Figure at 0x7fb3f123aac8>"
            ]
          },
          "metadata": {
            "tags": []
          }
        }
      ]
    },
    {
      "metadata": {
        "id": "NuuX5so9WzFA",
        "colab_type": "text"
      },
      "cell_type": "markdown",
      "source": [
        "Here we are reshaping the x_train and x_test arrays from (num_samples,28,28) to (num_samples,28,28,1)"
      ]
    },
    {
      "metadata": {
        "id": "guBwytpntRRn",
        "colab_type": "code",
        "colab": {
          "autoexec": {
            "startup": false,
            "wait_interval": 0
          }
        }
      },
      "cell_type": "code",
      "source": [
        "X_train = X_train.reshape(X_train.shape[0], 28, 28,1)\n",
        "X_test = X_test.reshape(X_test.shape[0], 28, 28,1)"
      ],
      "execution_count": 0,
      "outputs": []
    },
    {
      "metadata": {
        "id": "dGPV6WavW1lp",
        "colab_type": "text"
      },
      "cell_type": "markdown",
      "source": [
        "Now we take a copy of the array, cast it to a float data type.Then we divide every number in the array by 255 to bring its values between 0 and 1. This is a form of regularization\n",
        "\n"
      ]
    },
    {
      "metadata": {
        "id": "N1hsXSKutX8P",
        "colab_type": "code",
        "colab": {
          "autoexec": {
            "startup": false,
            "wait_interval": 0
          }
        }
      },
      "cell_type": "code",
      "source": [
        "X_train = X_train.astype('float32')\n",
        "X_test = X_test.astype('float32')\n",
        "X_train /= 255\n",
        "X_test /= 255"
      ],
      "execution_count": 0,
      "outputs": []
    },
    {
      "metadata": {
        "id": "nLCmSxzxtZ-p",
        "colab_type": "code",
        "colab": {
          "autoexec": {
            "startup": false,
            "wait_interval": 0
          }
        }
      },
      "cell_type": "code",
      "source": [
        "# Convert 1-dimensional class arrays to 10-dimensional class matrices\n",
        "Y_train = np_utils.to_categorical(y_train, 10)\n",
        "Y_test = np_utils.to_categorical(y_test, 10)"
      ],
      "execution_count": 0,
      "outputs": []
    },
    {
      "metadata": {
        "id": "Yh8Q2jDHuYGq",
        "colab_type": "code",
        "colab": {
          "autoexec": {
            "startup": false,
            "wait_interval": 0
          }
        }
      },
      "cell_type": "code",
      "source": [
        "model = Sequential()\n",
        "\n",
        "model.add(Conv2D(filters = 32, kernel_size = (7, 7), input_shape = (28, 28, 1), padding='same'))\n",
        "model.add(Convolution2D(10, 1, activation='relu'))\n",
        "model.add(Activation('relu'))\n",
        "model.add(MaxPooling2D(pool_size=(2,2)))\n",
        "model.add(Dropout(0.25))\n",
        "model.add(Convolution2D(10, 14))\n",
        "\n",
        "\n",
        "model.add(Flatten())\n",
        "model.add(Activation('softmax'))"
      ],
      "execution_count": 0,
      "outputs": []
    },
    {
      "metadata": {
        "id": "dhl5x9GQuc0A",
        "colab_type": "code",
        "colab": {
          "autoexec": {
            "startup": false,
            "wait_interval": 0
          },
          "base_uri": "https://localhost:8080/",
          "height": 403
        },
        "outputId": "74bd3b67-23b5-45fa-b193-f37ad763bdb0",
        "executionInfo": {
          "status": "ok",
          "timestamp": 1525552100568,
          "user_tz": -330,
          "elapsed": 1015,
          "user": {
            "displayName": "Siddhaarth Sudhakaran",
            "photoUrl": "//lh4.googleusercontent.com/-Rst6J38gN2w/AAAAAAAAAAI/AAAAAAAAAGk/zANt2gA_WYY/s50-c-k-no/photo.jpg",
            "userId": "111571987603321829596"
          }
        }
      },
      "cell_type": "code",
      "source": [
        "model.summary()"
      ],
      "execution_count": 65,
      "outputs": [
        {
          "output_type": "stream",
          "text": [
            "_________________________________________________________________\n",
            "Layer (type)                 Output Shape              Param #   \n",
            "=================================================================\n",
            "conv2d_171 (Conv2D)          (None, 28, 28, 32)        1600      \n",
            "_________________________________________________________________\n",
            "conv2d_172 (Conv2D)          (None, 28, 28, 10)        330       \n",
            "_________________________________________________________________\n",
            "activation_176 (Activation)  (None, 28, 28, 10)        0         \n",
            "_________________________________________________________________\n",
            "max_pooling2d_7 (MaxPooling2 (None, 14, 14, 10)        0         \n",
            "_________________________________________________________________\n",
            "dropout_165 (Dropout)        (None, 14, 14, 10)        0         \n",
            "_________________________________________________________________\n",
            "conv2d_173 (Conv2D)          (None, 1, 1, 10)          19610     \n",
            "_________________________________________________________________\n",
            "flatten_10 (Flatten)         (None, 10)                0         \n",
            "_________________________________________________________________\n",
            "activation_177 (Activation)  (None, 10)                0         \n",
            "=================================================================\n",
            "Total params: 21,540\n",
            "Trainable params: 21,540\n",
            "Non-trainable params: 0\n",
            "_________________________________________________________________\n"
          ],
          "name": "stdout"
        }
      ]
    },
    {
      "metadata": {
        "id": "EuoFdWt9-v1i",
        "colab_type": "code",
        "colab": {
          "autoexec": {
            "startup": false,
            "wait_interval": 0
          }
        }
      },
      "cell_type": "code",
      "source": [
        "model.compile(loss='categorical_crossentropy',\n",
        "             optimizer='adam',\n",
        "             metrics=['accuracy'])"
      ],
      "execution_count": 0,
      "outputs": []
    },
    {
      "metadata": {
        "id": "WEE8N-27-jCf",
        "colab_type": "code",
        "colab": {
          "autoexec": {
            "startup": false,
            "wait_interval": 0
          },
          "base_uri": "https://localhost:8080/",
          "height": 403
        },
        "outputId": "c83a335d-b847-47de-e129-e245f2c4ce0e",
        "executionInfo": {
          "status": "ok",
          "timestamp": 1525552335995,
          "user_tz": -330,
          "elapsed": 220681,
          "user": {
            "displayName": "Siddhaarth Sudhakaran",
            "photoUrl": "//lh4.googleusercontent.com/-Rst6J38gN2w/AAAAAAAAAAI/AAAAAAAAAGk/zANt2gA_WYY/s50-c-k-no/photo.jpg",
            "userId": "111571987603321829596"
          }
        }
      },
      "cell_type": "code",
      "source": [
        "model.fit(X_train, Y_train, batch_size=32, nb_epoch=10, verbose=1)"
      ],
      "execution_count": 67,
      "outputs": [
        {
          "output_type": "stream",
          "text": [
            "/usr/local/lib/python3.6/dist-packages/keras/models.py:981: UserWarning: The `nb_epoch` argument in `fit` has been renamed `epochs`.\n",
            "  warnings.warn('The `nb_epoch` argument in `fit` '\n"
          ],
          "name": "stderr"
        },
        {
          "output_type": "stream",
          "text": [
            "Epoch 1/10\n",
            "60000/60000 [==============================] - 27s 450us/step - loss: 0.2219 - acc: 0.9326\n",
            "Epoch 2/10\n",
            "50048/60000 [========================>.....] - ETA: 3s - loss: 0.0866 - acc: 0.9730"
          ],
          "name": "stdout"
        },
        {
          "output_type": "stream",
          "text": [
            "60000/60000 [==============================] - 21s 356us/step - loss: 0.0855 - acc: 0.9736\n",
            "Epoch 3/10\n",
            "60000/60000 [==============================] - 21s 356us/step - loss: 0.0679 - acc: 0.9788\n",
            "Epoch 4/10\n",
            "12320/60000 [=====>........................] - ETA: 17s - loss: 0.0613 - acc: 0.9817"
          ],
          "name": "stdout"
        },
        {
          "output_type": "stream",
          "text": [
            "60000/60000 [==============================] - 21s 358us/step - loss: 0.0606 - acc: 0.9808\n",
            "Epoch 5/10\n",
            "60000/60000 [==============================] - 21s 358us/step - loss: 0.0521 - acc: 0.9831\n",
            "Epoch 6/10\n",
            "  960/60000 [..............................] - ETA: 21s - loss: 0.0480 - acc: 0.9823"
          ],
          "name": "stdout"
        },
        {
          "output_type": "stream",
          "text": [
            "60000/60000 [==============================] - 21s 356us/step - loss: 0.0485 - acc: 0.9844\n",
            "Epoch 7/10\n",
            "57216/60000 [===========================>..] - ETA: 0s - loss: 0.0452 - acc: 0.9850"
          ],
          "name": "stdout"
        },
        {
          "output_type": "stream",
          "text": [
            "60000/60000 [==============================] - 21s 355us/step - loss: 0.0455 - acc: 0.9850\n",
            "Epoch 8/10\n",
            "60000/60000 [==============================] - 21s 356us/step - loss: 0.0436 - acc: 0.9856\n",
            "Epoch 9/10\n",
            "14432/60000 [======>.......................] - ETA: 16s - loss: 0.0410 - acc: 0.9866"
          ],
          "name": "stdout"
        },
        {
          "output_type": "stream",
          "text": [
            "60000/60000 [==============================] - 21s 357us/step - loss: 0.0414 - acc: 0.9866\n",
            "Epoch 10/10\n",
            "60000/60000 [==============================] - 21s 354us/step - loss: 0.0398 - acc: 0.9869\n"
          ],
          "name": "stdout"
        },
        {
          "output_type": "execute_result",
          "data": {
            "text/plain": [
              "<keras.callbacks.History at 0x7fb30ce472e8>"
            ]
          },
          "metadata": {
            "tags": []
          },
          "execution_count": 67
        }
      ]
    },
    {
      "metadata": {
        "id": "iLHSpsFIuluZ",
        "colab_type": "code",
        "colab": {
          "autoexec": {
            "startup": false,
            "wait_interval": 0
          }
        }
      },
      "cell_type": "code",
      "source": [
        "score = model.evaluate(X_test, Y_test, verbose=0)"
      ],
      "execution_count": 0,
      "outputs": []
    },
    {
      "metadata": {
        "id": "8FT6J-v-uoSo",
        "colab_type": "code",
        "colab": {
          "autoexec": {
            "startup": false,
            "wait_interval": 0
          },
          "base_uri": "https://localhost:8080/",
          "height": 34
        },
        "outputId": "c7cb03a7-ff65-46c3-c0f7-2a75772641e8",
        "executionInfo": {
          "status": "ok",
          "timestamp": 1525552391502,
          "user_tz": -330,
          "elapsed": 906,
          "user": {
            "displayName": "Siddhaarth Sudhakaran",
            "photoUrl": "//lh4.googleusercontent.com/-Rst6J38gN2w/AAAAAAAAAAI/AAAAAAAAAGk/zANt2gA_WYY/s50-c-k-no/photo.jpg",
            "userId": "111571987603321829596"
          }
        }
      },
      "cell_type": "code",
      "source": [
        "print(score)"
      ],
      "execution_count": 69,
      "outputs": [
        {
          "output_type": "stream",
          "text": [
            "[0.04214547336179821, 0.9872]\n"
          ],
          "name": "stdout"
        }
      ]
    },
    {
      "metadata": {
        "id": "tHZAyhPeyS7E",
        "colab_type": "code",
        "colab": {
          "autoexec": {
            "startup": false,
            "wait_interval": 0
          },
          "base_uri": "https://localhost:8080/",
          "height": 336
        },
        "outputId": "12476cbe-9852-46e1-b963-2d3be0a78461",
        "executionInfo": {
          "status": "ok",
          "timestamp": 1525552459809,
          "user_tz": -330,
          "elapsed": 927,
          "user": {
            "displayName": "Siddhaarth Sudhakaran",
            "photoUrl": "//lh4.googleusercontent.com/-Rst6J38gN2w/AAAAAAAAAAI/AAAAAAAAAGk/zANt2gA_WYY/s50-c-k-no/photo.jpg",
            "userId": "111571987603321829596"
          }
        }
      },
      "cell_type": "code",
      "source": [
        "print(y_pred[:9])\n",
        "print(y_test[:9])"
      ],
      "execution_count": 71,
      "outputs": [
        {
          "output_type": "stream",
          "text": [
            "[[2.7926730e-13 5.7275598e-13 8.8453049e-09 9.7241355e-06 6.0065078e-17\n",
            "  1.8987968e-10 5.9120880e-21 9.9999022e-01 6.0589270e-11 1.1956972e-08]\n",
            " [2.0046104e-10 1.5443700e-06 9.9999738e-01 8.3188700e-10 1.1122527e-11\n",
            "  1.7545030e-13 1.1130111e-06 1.5026004e-15 3.7898154e-10 6.0465760e-13]\n",
            " [1.6700783e-08 9.9932313e-01 6.3504602e-05 1.3937070e-06 2.4221576e-04\n",
            "  3.1259399e-06 8.4575704e-06 1.6174532e-04 1.9580578e-04 5.8446022e-07]\n",
            " [9.9999464e-01 4.5818589e-11 1.9922923e-07 4.7457527e-10 2.0568147e-09\n",
            "  4.7698121e-09 4.3964733e-06 7.7745504e-08 3.6308625e-09 5.5731846e-07]\n",
            " [4.4173928e-10 9.0069658e-09 8.6292982e-09 1.2207805e-08 9.9986756e-01\n",
            "  2.3142925e-09 8.3033336e-10 3.5648617e-07 3.4523282e-08 1.3198075e-04]\n",
            " [1.7259453e-09 9.9945015e-01 9.8190249e-06 8.7633403e-08 3.7725378e-05\n",
            "  4.4333934e-08 2.5756935e-07 4.3123256e-04 7.0518479e-05 7.5054956e-08]\n",
            " [3.1914756e-16 4.9133146e-08 3.0211262e-09 4.2734847e-09 9.9785042e-01\n",
            "  5.8015416e-06 1.9357094e-12 4.8237518e-05 1.1795915e-03 9.1590552e-04]\n",
            " [1.1429723e-14 2.9619960e-07 2.2036124e-06 4.1848893e-06 9.8263542e-04\n",
            "  5.9215186e-06 9.4589267e-11 1.1856088e-08 2.7559965e-05 9.9897730e-01]\n",
            " [1.9333569e-08 8.0208989e-15 1.6194136e-10 8.4675267e-11 1.0386797e-08\n",
            "  9.5016772e-01 4.9826298e-02 3.4089927e-13 5.9477520e-06 1.8596592e-09]]\n",
            "[7 2 1 0 4 1 4 9 5]\n"
          ],
          "name": "stdout"
        }
      ]
    },
    {
      "metadata": {
        "id": "742J0V6aA0To",
        "colab_type": "code",
        "colab": {
          "autoexec": {
            "startup": false,
            "wait_interval": 0
          }
        }
      },
      "cell_type": "code",
      "source": [
        "layer_dict = dict([(layer.name, layer) for layer in model.layers])"
      ],
      "execution_count": 0,
      "outputs": []
    },
    {
      "metadata": {
        "id": "rSzIkS6VA7KV",
        "colab_type": "code",
        "colab": {
          "autoexec": {
            "startup": false,
            "wait_interval": 0
          },
          "base_uri": "https://localhost:8080/",
          "height": 839
        },
        "outputId": "81a01ac8-10dc-4783-fe0d-6bce53212912",
        "executionInfo": {
          "status": "ok",
          "timestamp": 1525555410730,
          "user_tz": -330,
          "elapsed": 73569,
          "user": {
            "displayName": "Siddhaarth Sudhakaran",
            "photoUrl": "//lh4.googleusercontent.com/-Rst6J38gN2w/AAAAAAAAAAI/AAAAAAAAAGk/zANt2gA_WYY/s50-c-k-no/photo.jpg",
            "userId": "111571987603321829596"
          }
        }
      },
      "cell_type": "code",
      "source": [
        "import numpy as np\n",
        "from matplotlib import pyplot as plt\n",
        "from keras import backend as K\n",
        "%matplotlib inline\n",
        "# util function to convert a tensor into a valid image\n",
        "def deprocess_image(x):\n",
        "    # normalize tensor: center on 0., ensure std is 0.1\n",
        "    x -= x.mean()\n",
        "    x /= (x.std() + 1e-5)\n",
        "    x *= 0.1\n",
        "\n",
        "    # clip to [0, 1]\n",
        "    x += 0.5\n",
        "    x = np.clip(x, 0, 1)\n",
        "\n",
        "    # convert to RGB array\n",
        "    x *= 255\n",
        "    #x = x.transpose((1, 2, 0))\n",
        "    x = np.clip(x, 0, 255).astype('uint8')\n",
        "    return x\n",
        "\n",
        "def vis_img_in_filter(img = np.array(X_train[2]).reshape((1, 28, 28, 1)).astype(np.float64), \n",
        "                      layer_name = 'conv2d_171'):\n",
        "    layer_output = layer_dict[layer_name].output\n",
        "    img_ascs = list()\n",
        "    for filter_index in range(layer_output.shape[3]):\n",
        "        # build a loss function that maximizes the activation\n",
        "        # of the nth filter of the layer considered\n",
        "        loss = K.mean(layer_output[:, :, :, filter_index])\n",
        "\n",
        "        # compute the gradient of the input picture wrt this loss\n",
        "        grads = K.gradients(loss, model.input)[0]\n",
        "\n",
        "        # normalization trick: we normalize the gradient\n",
        "        grads /= (K.sqrt(K.mean(K.square(grads))) + 1e-5)\n",
        "\n",
        "        # this function returns the loss and grads given the input picture\n",
        "        iterate = K.function([model.input], [loss, grads])\n",
        "\n",
        "        # step size for gradient ascent\n",
        "        step = 5.\n",
        "\n",
        "        img_asc = np.array(img)\n",
        "        # run gradient ascent for 20 steps\n",
        "        for i in range(20):\n",
        "            loss_value, grads_value = iterate([img_asc])\n",
        "            img_asc += grads_value * step\n",
        "\n",
        "        img_asc = img_asc[0]\n",
        "        img_ascs.append(deprocess_image(img_asc).reshape((28, 28)))\n",
        "        \n",
        "    if layer_output.shape[3] >= 35:\n",
        "        plot_x, plot_y = 6, 6\n",
        "    elif layer_output.shape[3] >= 23:\n",
        "        plot_x, plot_y = 4, 6\n",
        "    elif layer_output.shape[3] >= 11:\n",
        "        plot_x, plot_y = 2, 6\n",
        "    else:\n",
        "        plot_x, plot_y = 1, 2\n",
        "    fig, ax = plt.subplots(plot_x, plot_y, figsize = (12, 12))\n",
        "    ax[0, 0].imshow(img.reshape((28, 28)), cmap = 'gray')\n",
        "    ax[0, 0].set_title('Input image')\n",
        "    fig.suptitle('Input image and %s filters' % (layer_name,))\n",
        "    fig.tight_layout(pad = 0.3, rect = [0, 0, 0.9, 0.9])\n",
        "    for (x, y) in [(i, j) for i in range(plot_x) for j in range(plot_y)]:\n",
        "        if x == 0 and y == 0:\n",
        "            continue\n",
        "        ax[x, y].imshow(img_ascs[x * plot_y + y - 1], cmap = 'gray')\n",
        "        ax[x, y].set_title('filter %d' % (x * plot_y + y - 1))\n",
        "\n",
        "vis_img_in_filter()"
      ],
      "execution_count": 76,
      "outputs": [
        {
          "output_type": "display_data",
          "data": {
            "image/png": "[encoded data removed]",
            "text/plain": [
              "<matplotlib.figure.Figure at 0x7fb3264776d8>"
            ]
          },
          "metadata": {
            "tags": []
          }
        }
      ]
    }
  ]
}
