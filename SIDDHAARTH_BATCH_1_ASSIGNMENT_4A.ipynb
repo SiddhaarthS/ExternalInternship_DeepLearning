{
  "nbformat": 4,
  "nbformat_minor": 0,
  "metadata": {
    "colab": {
      "name": "SIDDHAARTH_BATCH_1_ASSIGNMENT_4A.ipynb",
      "version": "0.3.2",
      "views": {},
      "default_view": {},
      "provenance": []
    },
    "kernelspec": {
      "name": "python3",
      "display_name": "Python 3"
    },
    "accelerator": "GPU"
  },
  "cells": [
    {
      "metadata": {
        "id": "CtYyJixoObEs",
        "colab_type": "code",
        "colab": {
          "autoexec": {
            "startup": false,
            "wait_interval": 0
          },
          "base_uri": "https://localhost:8080/",
          "height": 34
        },
        "outputId": "6766bc8b-76c2-4684-bf91-4d2d2f5fc0ae",
        "executionInfo": {
          "status": "ok",
          "timestamp": 1525683374161,
          "user_tz": -330,
          "elapsed": 10297,
          "user": {
            "displayName": "Lone Pack",
            "photoUrl": "https://lh3.googleusercontent.com/a/default-user=s128",
            "userId": "104686426490138401568"
          }
        }
      },
      "cell_type": "code",
      "source": [
        "# https://keras.io/\n",
        "!pip install -q keras\n",
        "import keras"
      ],
      "execution_count": 1,
      "outputs": [
        {
          "output_type": "stream",
          "text": [
            "Using TensorFlow backend.\n"
          ],
          "name": "stderr"
        }
      ]
    },
    {
      "metadata": {
        "id": "h3NlcOILPByH",
        "colab_type": "code",
        "colab": {
          "autoexec": {
            "startup": false,
            "wait_interval": 0
          }
        }
      },
      "cell_type": "code",
      "source": [
        "import numpy as np\n",
        "\n",
        "from keras.models import Sequential\n",
        "from keras.layers import Dense, Dropout, Activation, Flatten, Add\n",
        "from keras.layers import Convolution2D, MaxPooling2D\n",
        "from keras.utils import np_utils\n",
        "\n",
        "from keras.datasets import mnist"
      ],
      "execution_count": 0,
      "outputs": []
    },
    {
      "metadata": {
        "id": "9IRTQMsIPF7D",
        "colab_type": "code",
        "colab": {
          "autoexec": {
            "startup": false,
            "wait_interval": 0
          },
          "base_uri": "https://localhost:8080/",
          "height": 51
        },
        "outputId": "cbb1687f-264d-4abc-8e1b-9d1c1f936269",
        "executionInfo": {
          "status": "ok",
          "timestamp": 1525683388435,
          "user_tz": -330,
          "elapsed": 2245,
          "user": {
            "displayName": "Lone Pack",
            "photoUrl": "https://lh3.googleusercontent.com/a/default-user=s128",
            "userId": "104686426490138401568"
          }
        }
      },
      "cell_type": "code",
      "source": [
        "(X_train, y_train), (X_test, y_test) = mnist.load_data()"
      ],
      "execution_count": 3,
      "outputs": [
        {
          "output_type": "stream",
          "text": [
            "Downloading data from https://s3.amazonaws.com/img-datasets/mnist.npz\n",
            "11493376/11490434 [==============================] - 1s 0us/step\n"
          ],
          "name": "stdout"
        }
      ]
    },
    {
      "metadata": {
        "id": "LTCwPTfyPNwW",
        "colab_type": "code",
        "colab": {
          "autoexec": {
            "startup": false,
            "wait_interval": 0
          },
          "base_uri": "https://localhost:8080/",
          "height": 299
        },
        "outputId": "cda5f5e0-eaa5-4211-c346-7edaba24e325",
        "executionInfo": {
          "status": "ok",
          "timestamp": 1525683398601,
          "user_tz": -330,
          "elapsed": 954,
          "user": {
            "displayName": "Lone Pack",
            "photoUrl": "https://lh3.googleusercontent.com/a/default-user=s128",
            "userId": "104686426490138401568"
          }
        }
      },
      "cell_type": "code",
      "source": [
        "print (X_train.shape)\n",
        "from matplotlib import pyplot as plt\n",
        "%matplotlib inline\n",
        "plt.imshow(X_train[0])"
      ],
      "execution_count": 4,
      "outputs": [
        {
          "output_type": "stream",
          "text": [
            "(60000, 28, 28)\n"
          ],
          "name": "stdout"
        },
        {
          "output_type": "execute_result",
          "data": {
            "text/plain": [
              "<matplotlib.image.AxesImage at 0x7fb45c79aac8>"
            ]
          },
          "metadata": {
            "tags": []
          },
          "execution_count": 4
        },
        {
          "output_type": "display_data",
          "data": {
            "image/png": "[encoded data removed]",
            "text/plain": [
              "<matplotlib.figure.Figure at 0x7fb45cc2bf98>"
            ]
          },
          "metadata": {
            "tags": []
          }
        }
      ]
    },
    {
      "metadata": {
        "id": "swAlSUTKPC3a",
        "colab_type": "code",
        "colab": {
          "autoexec": {
            "startup": false,
            "wait_interval": 0
          }
        }
      },
      "cell_type": "code",
      "source": [
        "X_train = X_train.reshape(X_train.shape[0], 28, 28,1)\n",
        "X_test = X_test.reshape(X_test.shape[0], 28, 28,1)"
      ],
      "execution_count": 0,
      "outputs": []
    },
    {
      "metadata": {
        "id": "NukW8wLkPuMZ",
        "colab_type": "code",
        "colab": {
          "autoexec": {
            "startup": false,
            "wait_interval": 0
          }
        }
      },
      "cell_type": "code",
      "source": [
        "X_train = X_train.astype('float32')\n",
        "X_test = X_test.astype('float32')\n",
        "X_train /= 255\n",
        "X_test /= 255"
      ],
      "execution_count": 0,
      "outputs": []
    },
    {
      "metadata": {
        "id": "xN5fyJodP0Z2",
        "colab_type": "code",
        "colab": {
          "autoexec": {
            "startup": false,
            "wait_interval": 0
          },
          "base_uri": "https://localhost:8080/",
          "height": 34
        },
        "outputId": "325cbe66-6fde-4562-b0ba-c9dd1bcf3dac",
        "executionInfo": {
          "status": "ok",
          "timestamp": 1525683450350,
          "user_tz": -330,
          "elapsed": 893,
          "user": {
            "displayName": "Lone Pack",
            "photoUrl": "https://lh3.googleusercontent.com/a/default-user=s128",
            "userId": "104686426490138401568"
          }
        }
      },
      "cell_type": "code",
      "source": [
        "y_train[:10]"
      ],
      "execution_count": 7,
      "outputs": [
        {
          "output_type": "execute_result",
          "data": {
            "text/plain": [
              "array([5, 0, 4, 1, 9, 2, 1, 3, 1, 4], dtype=uint8)"
            ]
          },
          "metadata": {
            "tags": []
          },
          "execution_count": 7
        }
      ]
    },
    {
      "metadata": {
        "id": "tqt2YLU7QjVD",
        "colab_type": "code",
        "colab": {
          "autoexec": {
            "startup": false,
            "wait_interval": 0
          }
        }
      },
      "cell_type": "code",
      "source": [
        "# Convert 1-dimensional class arrays to 10-dimensional class matrices\n",
        "Y_train = np_utils.to_categorical(y_train, 10)\n",
        "Y_test = np_utils.to_categorical(y_test, 10)"
      ],
      "execution_count": 0,
      "outputs": []
    },
    {
      "metadata": {
        "id": "vN1ZCMHzQsXv",
        "colab_type": "code",
        "colab": {
          "autoexec": {
            "startup": false,
            "wait_interval": 0
          },
          "base_uri": "https://localhost:8080/",
          "height": 185
        },
        "outputId": "5e5571e5-9068-4dc4-f99c-56e2832f423c",
        "executionInfo": {
          "status": "ok",
          "timestamp": 1525683476872,
          "user_tz": -330,
          "elapsed": 1198,
          "user": {
            "displayName": "Lone Pack",
            "photoUrl": "https://lh3.googleusercontent.com/a/default-user=s128",
            "userId": "104686426490138401568"
          }
        }
      },
      "cell_type": "code",
      "source": [
        "Y_train[:10]"
      ],
      "execution_count": 9,
      "outputs": [
        {
          "output_type": "execute_result",
          "data": {
            "text/plain": [
              "array([[0., 0., 0., 0., 0., 1., 0., 0., 0., 0.],\n",
              "       [1., 0., 0., 0., 0., 0., 0., 0., 0., 0.],\n",
              "       [0., 0., 0., 0., 1., 0., 0., 0., 0., 0.],\n",
              "       [0., 1., 0., 0., 0., 0., 0., 0., 0., 0.],\n",
              "       [0., 0., 0., 0., 0., 0., 0., 0., 0., 1.],\n",
              "       [0., 0., 1., 0., 0., 0., 0., 0., 0., 0.],\n",
              "       [0., 1., 0., 0., 0., 0., 0., 0., 0., 0.],\n",
              "       [0., 0., 0., 1., 0., 0., 0., 0., 0., 0.],\n",
              "       [0., 1., 0., 0., 0., 0., 0., 0., 0., 0.],\n",
              "       [0., 0., 0., 0., 1., 0., 0., 0., 0., 0.]], dtype=float32)"
            ]
          },
          "metadata": {
            "tags": []
          },
          "execution_count": 9
        }
      ]
    },
    {
      "metadata": {
        "id": "tvlN0L7jQwIq",
        "colab_type": "code",
        "colab": {
          "autoexec": {
            "startup": false,
            "wait_interval": 0
          }
        }
      },
      "cell_type": "code",
      "source": [
        "model = Sequential()\n",
        "\n",
        "model.add(Convolution2D(filters = 32, kernel_size = (7, 7), input_shape = (28, 28, 1)))\n",
        "model.add(Convolution2D(10, 1, activation='relu'))\n",
        "model.add(Activation('relu'))\n",
        "model.add(MaxPooling2D(pool_size=(2,2)))\n",
        "model.add(Dropout(0.25))\n",
        "model.add(Convolution2D(10, 11))\n",
        "\n",
        "\n",
        "model.add(Flatten())\n",
        "model.add(Activation('softmax'))"
      ],
      "execution_count": 0,
      "outputs": []
    },
    {
      "metadata": {
        "id": "ePqOfFAO1qoy",
        "colab_type": "code",
        "colab": {
          "autoexec": {
            "startup": false,
            "wait_interval": 0
          },
          "base_uri": "https://localhost:8080/",
          "height": 403
        },
        "outputId": "fa3876fa-809d-49cc-bb63-bc4142e2d4d3",
        "executionInfo": {
          "status": "ok",
          "timestamp": 1525684355306,
          "user_tz": -330,
          "elapsed": 732,
          "user": {
            "displayName": "Lone Pack",
            "photoUrl": "https://lh3.googleusercontent.com/a/default-user=s128",
            "userId": "104686426490138401568"
          }
        }
      },
      "cell_type": "code",
      "source": [
        "model.summary()"
      ],
      "execution_count": 27,
      "outputs": [
        {
          "output_type": "stream",
          "text": [
            "_________________________________________________________________\n",
            "Layer (type)                 Output Shape              Param #   \n",
            "=================================================================\n",
            "conv2d_4 (Conv2D)            (None, 22, 22, 32)        1600      \n",
            "_________________________________________________________________\n",
            "conv2d_5 (Conv2D)            (None, 22, 22, 10)        330       \n",
            "_________________________________________________________________\n",
            "activation_2 (Activation)    (None, 22, 22, 10)        0         \n",
            "_________________________________________________________________\n",
            "max_pooling2d_2 (MaxPooling2 (None, 11, 11, 10)        0         \n",
            "_________________________________________________________________\n",
            "dropout_2 (Dropout)          (None, 11, 11, 10)        0         \n",
            "_________________________________________________________________\n",
            "conv2d_6 (Conv2D)            (None, 1, 1, 10)          12110     \n",
            "_________________________________________________________________\n",
            "flatten_1 (Flatten)          (None, 10)                0         \n",
            "_________________________________________________________________\n",
            "activation_3 (Activation)    (None, 10)                0         \n",
            "=================================================================\n",
            "Total params: 14,040\n",
            "Trainable params: 14,040\n",
            "Non-trainable params: 0\n",
            "_________________________________________________________________\n"
          ],
          "name": "stdout"
        }
      ]
    },
    {
      "metadata": {
        "id": "_oaY7mGWREB2",
        "colab_type": "code",
        "colab": {
          "autoexec": {
            "startup": false,
            "wait_interval": 0
          }
        }
      },
      "cell_type": "code",
      "source": [
        "model.compile(loss='categorical_crossentropy',\n",
        "             optimizer='adam',\n",
        "             metrics=['accuracy'])"
      ],
      "execution_count": 0,
      "outputs": []
    },
    {
      "metadata": {
        "id": "24WsTtJwRKY4",
        "colab_type": "code",
        "colab": {
          "autoexec": {
            "startup": false,
            "wait_interval": 0
          },
          "base_uri": "https://localhost:8080/",
          "height": 759
        },
        "outputId": "36c32973-f1e9-4873-9668-85069816d965",
        "executionInfo": {
          "status": "ok",
          "timestamp": 1525684245585,
          "user_tz": -330,
          "elapsed": 381519,
          "user": {
            "displayName": "Lone Pack",
            "photoUrl": "https://lh3.googleusercontent.com/a/default-user=s128",
            "userId": "104686426490138401568"
          }
        }
      },
      "cell_type": "code",
      "source": [
        "model.fit(X_train, Y_train, batch_size=32, nb_epoch=20, verbose=1)"
      ],
      "execution_count": 19,
      "outputs": [
        {
          "output_type": "stream",
          "text": [
            "Epoch 1/20\n",
            "  576/60000 [..............................] - ETA: 18s - loss: 0.0335 - acc: 0.9931"
          ],
          "name": "stdout"
        },
        {
          "output_type": "stream",
          "text": [
            "/usr/local/lib/python3.6/dist-packages/keras/models.py:981: UserWarning: The `nb_epoch` argument in `fit` has been renamed `epochs`.\n",
            "  warnings.warn('The `nb_epoch` argument in `fit` '\n"
          ],
          "name": "stderr"
        },
        {
          "output_type": "stream",
          "text": [
            "60000/60000 [==============================] - 19s 317us/step - loss: 0.0403 - acc: 0.9870\n",
            "Epoch 2/20\n",
            "60000/60000 [==============================] - 19s 319us/step - loss: 0.0390 - acc: 0.9874\n",
            "Epoch 3/20\n",
            " 2976/60000 [>.............................] - ETA: 18s - loss: 0.0426 - acc: 0.9839"
          ],
          "name": "stdout"
        },
        {
          "output_type": "stream",
          "text": [
            "60000/60000 [==============================] - 19s 319us/step - loss: 0.0373 - acc: 0.9879\n",
            "Epoch 4/20\n",
            "60000/60000 [==============================] - 19s 316us/step - loss: 0.0369 - acc: 0.9880\n",
            "Epoch 5/20\n",
            " 4352/60000 [=>............................] - ETA: 17s - loss: 0.0313 - acc: 0.9894"
          ],
          "name": "stdout"
        },
        {
          "output_type": "stream",
          "text": [
            "60000/60000 [==============================] - 19s 316us/step - loss: 0.0361 - acc: 0.9887\n",
            "Epoch 6/20\n",
            "60000/60000 [==============================] - 19s 317us/step - loss: 0.0353 - acc: 0.9880\n",
            "Epoch 7/20\n",
            " 5120/60000 [=>............................] - ETA: 17s - loss: 0.0332 - acc: 0.9889"
          ],
          "name": "stdout"
        },
        {
          "output_type": "stream",
          "text": [
            "60000/60000 [==============================] - 19s 320us/step - loss: 0.0340 - acc: 0.9886\n",
            "Epoch 8/20\n",
            "60000/60000 [==============================] - 19s 319us/step - loss: 0.0319 - acc: 0.9898\n",
            "Epoch 9/20\n",
            " 4096/60000 [=>............................] - ETA: 17s - loss: 0.0223 - acc: 0.9924"
          ],
          "name": "stdout"
        },
        {
          "output_type": "stream",
          "text": [
            "60000/60000 [==============================] - 19s 320us/step - loss: 0.0328 - acc: 0.9892\n",
            "Epoch 10/20\n",
            "60000/60000 [==============================] - 19s 318us/step - loss: 0.0315 - acc: 0.9894\n",
            "Epoch 11/20\n",
            " 3680/60000 [>.............................] - ETA: 18s - loss: 0.0276 - acc: 0.9913"
          ],
          "name": "stdout"
        },
        {
          "output_type": "stream",
          "text": [
            "60000/60000 [==============================] - 19s 319us/step - loss: 0.0331 - acc: 0.9893\n",
            "Epoch 12/20\n",
            "60000/60000 [==============================] - 19s 319us/step - loss: 0.0310 - acc: 0.9899\n",
            "Epoch 13/20\n",
            " 3680/60000 [>.............................] - ETA: 17s - loss: 0.0344 - acc: 0.9889"
          ],
          "name": "stdout"
        },
        {
          "output_type": "stream",
          "text": [
            "60000/60000 [==============================] - 19s 317us/step - loss: 0.0297 - acc: 0.9902\n",
            "Epoch 14/20\n",
            "60000/60000 [==============================] - 19s 317us/step - loss: 0.0293 - acc: 0.9902\n",
            "Epoch 15/20\n",
            " 4064/60000 [=>............................] - ETA: 17s - loss: 0.0194 - acc: 0.9929"
          ],
          "name": "stdout"
        },
        {
          "output_type": "stream",
          "text": [
            "60000/60000 [==============================] - 19s 317us/step - loss: 0.0292 - acc: 0.9904\n",
            "Epoch 16/20\n",
            "60000/60000 [==============================] - 19s 316us/step - loss: 0.0305 - acc: 0.9895\n",
            "Epoch 17/20\n",
            " 5056/60000 [=>............................] - ETA: 17s - loss: 0.0256 - acc: 0.9917"
          ],
          "name": "stdout"
        },
        {
          "output_type": "stream",
          "text": [
            "60000/60000 [==============================] - 19s 316us/step - loss: 0.0278 - acc: 0.9911\n",
            "Epoch 18/20\n",
            "60000/60000 [==============================] - 19s 319us/step - loss: 0.0285 - acc: 0.9903\n",
            "Epoch 19/20\n",
            " 4256/60000 [=>............................] - ETA: 17s - loss: 0.0310 - acc: 0.9904"
          ],
          "name": "stdout"
        },
        {
          "output_type": "stream",
          "text": [
            "60000/60000 [==============================] - 19s 313us/step - loss: 0.0288 - acc: 0.9907\n",
            "Epoch 20/20\n",
            "60000/60000 [==============================] - 19s 313us/step - loss: 0.0271 - acc: 0.9911\n"
          ],
          "name": "stdout"
        },
        {
          "output_type": "execute_result",
          "data": {
            "text/plain": [
              "<keras.callbacks.History at 0x7fb45a2f0dd8>"
            ]
          },
          "metadata": {
            "tags": []
          },
          "execution_count": 19
        }
      ]
    },
    {
      "metadata": {
        "id": "XCNKkB5M955M",
        "colab_type": "code",
        "colab": {
          "autoexec": {
            "startup": false,
            "wait_interval": 0
          }
        }
      },
      "cell_type": "code",
      "source": [
        "score = model.evaluate(X_test, Y_test, verbose=0)"
      ],
      "execution_count": 0,
      "outputs": []
    },
    {
      "metadata": {
        "id": "8h7LZnnf3rl7",
        "colab_type": "code",
        "colab": {
          "autoexec": {
            "startup": false,
            "wait_interval": 0
          },
          "base_uri": "https://localhost:8080/",
          "height": 34
        },
        "outputId": "8d1b288a-fd7f-4f53-a265-d35e4541e8a6",
        "executionInfo": {
          "status": "ok",
          "timestamp": 1525684290569,
          "user_tz": -330,
          "elapsed": 887,
          "user": {
            "displayName": "Lone Pack",
            "photoUrl": "https://lh3.googleusercontent.com/a/default-user=s128",
            "userId": "104686426490138401568"
          }
        }
      },
      "cell_type": "code",
      "source": [
        "print(score)"
      ],
      "execution_count": 23,
      "outputs": [
        {
          "output_type": "stream",
          "text": [
            "[0.0516039319561256, 0.987]\n"
          ],
          "name": "stdout"
        }
      ]
    },
    {
      "metadata": {
        "id": "Sb6_18m33zQz",
        "colab_type": "code",
        "colab": {
          "autoexec": {
            "startup": false,
            "wait_interval": 0
          }
        }
      },
      "cell_type": "code",
      "source": [
        "y_pred = model.predict(X_test)"
      ],
      "execution_count": 0,
      "outputs": []
    },
    {
      "metadata": {
        "id": "XFfYzZIM32fa",
        "colab_type": "code",
        "colab": {
          "autoexec": {
            "startup": false,
            "wait_interval": 0
          },
          "base_uri": "https://localhost:8080/",
          "height": 487
        },
        "outputId": "846152a6-4072-4c82-8547-d585c573e226",
        "executionInfo": {
          "status": "ok",
          "timestamp": 1525684335058,
          "user_tz": -330,
          "elapsed": 952,
          "user": {
            "displayName": "Lone Pack",
            "photoUrl": "https://lh3.googleusercontent.com/a/default-user=s128",
            "userId": "104686426490138401568"
          }
        }
      },
      "cell_type": "code",
      "source": [
        "print(y_pred[:9])\n",
        "print(y_test[:9])"
      ],
      "execution_count": 25,
      "outputs": [
        {
          "output_type": "stream",
          "text": [
            "[[3.36528868e-20 1.08451012e-20 1.76539027e-13 7.14755810e-10\n",
            "  5.04641618e-24 9.20470280e-16 3.45472124e-31 1.00000000e+00\n",
            "  3.73335586e-13 8.35140198e-14]\n",
            " [3.91213936e-11 1.36760949e-08 1.00000000e+00 6.95585907e-12\n",
            "  3.72425704e-18 4.53158646e-19 6.65498279e-09 8.64905508e-18\n",
            "  6.93421778e-11 1.48724412e-19]\n",
            " [9.32676714e-10 9.99952912e-01 5.46925946e-07 6.15498585e-09\n",
            "  2.29421075e-05 2.48064384e-06 1.26156152e-07 5.04152013e-06\n",
            "  1.58869298e-05 2.16045581e-08]\n",
            " [9.99890804e-01 2.74126497e-17 5.87580296e-08 2.72483458e-09\n",
            "  5.33313758e-12 1.56821649e-08 1.06440042e-04 1.27604628e-11\n",
            "  1.90153673e-06 7.14500970e-07]\n",
            " [2.83099716e-13 8.85800629e-15 1.77882209e-09 2.94351166e-14\n",
            "  9.99997735e-01 1.04226405e-14 1.03728389e-11 7.93931240e-11\n",
            "  4.06931067e-09 2.26694283e-06]\n",
            " [4.11913614e-10 9.99896169e-01 5.20152277e-08 7.64801777e-10\n",
            "  7.80960909e-06 2.17779199e-08 2.93082336e-09 6.16567631e-05\n",
            "  3.41872110e-05 8.96123495e-08]\n",
            " [9.15476085e-27 6.81654645e-18 1.49170337e-15 5.48012778e-20\n",
            "  9.99997258e-01 5.26824678e-13 1.45619412e-20 1.34810132e-12\n",
            "  2.70476494e-06 2.96423011e-08]\n",
            " [1.68714830e-22 2.68050209e-12 4.07870395e-08 4.37164758e-08\n",
            "  1.59379706e-04 9.65976099e-09 3.68135845e-16 6.86444781e-12\n",
            "  2.05140191e-06 9.99838471e-01]\n",
            " [5.53500171e-12 1.79575902e-24 2.70984068e-14 3.65750182e-14\n",
            "  9.43267669e-17 9.99975443e-01 8.68034567e-06 9.58260814e-17\n",
            "  1.58051989e-05 3.56868940e-14]]\n",
            "[7 2 1 0 4 1 4 9 5]\n"
          ],
          "name": "stdout"
        }
      ]
    },
    {
      "metadata": {
        "id": "OklUy_pG34q7",
        "colab_type": "code",
        "colab": {
          "autoexec": {
            "startup": false,
            "wait_interval": 0
          }
        }
      },
      "cell_type": "code",
      "source": [
        "layer_dict = dict([(layer.name, layer) for layer in model.layers])"
      ],
      "execution_count": 0,
      "outputs": []
    },
    {
      "metadata": {
        "id": "PxOgqhRG36US",
        "colab_type": "code",
        "colab": {
          "autoexec": {
            "startup": false,
            "wait_interval": 0
          },
          "base_uri": "https://localhost:8080/",
          "height": 839
        },
        "outputId": "e3a351c7-564d-42b0-b06c-90c655aff105",
        "executionInfo": {
          "status": "ok",
          "timestamp": 1525684376616,
          "user_tz": -330,
          "elapsed": 7729,
          "user": {
            "displayName": "Lone Pack",
            "photoUrl": "https://lh3.googleusercontent.com/a/default-user=s128",
            "userId": "104686426490138401568"
          }
        }
      },
      "cell_type": "code",
      "source": [
        "import numpy as np\n",
        "from matplotlib import pyplot as plt\n",
        "from keras import backend as K\n",
        "%matplotlib inline\n",
        "# util function to convert a tensor into a valid image\n",
        "def deprocess_image(x):\n",
        "    # normalize tensor: center on 0., ensure std is 0.1\n",
        "    x -= x.mean()\n",
        "    x /= (x.std() + 1e-5)\n",
        "    x *= 0.1\n",
        "\n",
        "    # clip to [0, 1]\n",
        "    x += 0.5\n",
        "    x = np.clip(x, 0, 1)\n",
        "\n",
        "    # convert to RGB array\n",
        "    x *= 255\n",
        "    #x = x.transpose((1, 2, 0))\n",
        "    x = np.clip(x, 0, 255).astype('uint8')\n",
        "    return x\n",
        "\n",
        "def vis_img_in_filter(img = np.array(X_train[2]).reshape((1, 28, 28, 1)).astype(np.float64), \n",
        "                      layer_name = 'conv2d_4'):\n",
        "    layer_output = layer_dict[layer_name].output\n",
        "    img_ascs = list()\n",
        "    for filter_index in range(layer_output.shape[3]):\n",
        "        # build a loss function that maximizes the activation\n",
        "        # of the nth filter of the layer considered\n",
        "        loss = K.mean(layer_output[:, :, :, filter_index])\n",
        "\n",
        "        # compute the gradient of the input picture wrt this loss\n",
        "        grads = K.gradients(loss, model.input)[0]\n",
        "\n",
        "        # normalization trick: we normalize the gradient\n",
        "        grads /= (K.sqrt(K.mean(K.square(grads))) + 1e-5)\n",
        "\n",
        "        # this function returns the loss and grads given the input picture\n",
        "        iterate = K.function([model.input], [loss, grads])\n",
        "\n",
        "        # step size for gradient ascent\n",
        "        step = 5.\n",
        "\n",
        "        img_asc = np.array(img)\n",
        "        # run gradient ascent for 20 steps\n",
        "        for i in range(20):\n",
        "            loss_value, grads_value = iterate([img_asc])\n",
        "            img_asc += grads_value * step\n",
        "\n",
        "        img_asc = img_asc[0]\n",
        "        img_ascs.append(deprocess_image(img_asc).reshape((28, 28)))\n",
        "        \n",
        "    if layer_output.shape[3] >= 35:\n",
        "        plot_x, plot_y = 6, 6\n",
        "    elif layer_output.shape[3] >= 23:\n",
        "        plot_x, plot_y = 4, 6\n",
        "    elif layer_output.shape[3] >= 11:\n",
        "        plot_x, plot_y = 2, 6\n",
        "    else:\n",
        "        plot_x, plot_y = 1, 2\n",
        "    fig, ax = plt.subplots(plot_x, plot_y, figsize = (12, 12))\n",
        "    ax[0, 0].imshow(img.reshape((28, 28)), cmap = 'gray')\n",
        "    ax[0, 0].set_title('Input image')\n",
        "    fig.suptitle('Input image and %s filters' % (layer_name,))\n",
        "    fig.tight_layout(pad = 0.3, rect = [0, 0, 0.9, 0.9])\n",
        "    for (x, y) in [(i, j) for i in range(plot_x) for j in range(plot_y)]:\n",
        "        if x == 0 and y == 0:\n",
        "            continue\n",
        "        ax[x, y].imshow(img_ascs[x * plot_y + y - 1], cmap = 'gray')\n",
        "        ax[x, y].set_title('filter %d' % (x * plot_y + y - 1))\n",
        "\n",
        "vis_img_in_filter()"
      ],
      "execution_count": 28,
      "outputs": [
        {
          "output_type": "display_data",
          "data": {
            "image/png": "[encoded data removed]",
            "text/plain": [
              "<matplotlib.figure.Figure at 0x7fb4404e2828>"
            ]
          },
          "metadata": {
            "tags": []
          }
        }
      ]
    }
  ]
}
